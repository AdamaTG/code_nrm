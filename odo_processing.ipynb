{
  "nbformat": 4,
  "nbformat_minor": 0,
  "metadata": {
    "colab": {
      "name": "odo_processing.ipynb",
      "provenance": [],
      "collapsed_sections": [],
      "include_colab_link": true
    },
    "kernelspec": {
      "name": "python3",
      "display_name": "Python 3"
    }
  },
  "cells": [
    {
      "cell_type": "markdown",
      "metadata": {
        "id": "view-in-github",
        "colab_type": "text"
      },
      "source": [
        "<a href=\"https://colab.research.google.com/github/AdamaTG/code_nrm/blob/master/odo_processing.ipynb\" target=\"_parent\"><img src=\"https://colab.research.google.com/assets/colab-badge.svg\" alt=\"Open In Colab\"/></a>"
      ]
    },
    {
      "cell_type": "code",
      "metadata": {
        "id": "F6Tr8ufuiTJK",
        "colab_type": "code",
        "colab": {}
      },
      "source": [
        "import pandas as pd\n",
        "import numpy as np\n",
        "import matplotlib.pyplot as plt\n",
        "import seaborn as sns\n",
        "from IPython.display import display\n",
        "from datetime import datetime\n",
        "import nltk\n",
        "from nltk.corpus import stopwords\n",
        "from nltk.stem import WordNetLemmatizer\n",
        "import re\n",
        "\n",
        "stemmer = WordNetLemmatizer()\n",
        "sns.set_style(\"whitegrid\")\n",
        "%matplotlib inline"
      ],
      "execution_count": 0,
      "outputs": []
    },
    {
      "cell_type": "code",
      "metadata": {
        "id": "yNev0yNy_PxA",
        "colab_type": "code",
        "colab": {}
      },
      "source": [
        ""
      ],
      "execution_count": 0,
      "outputs": []
    },
    {
      "cell_type": "code",
      "metadata": {
        "id": "e5Rvt4hcjDUF",
        "colab_type": "code",
        "colab": {}
      },
      "source": [
        "train = pd.read_excel('keywords_file.xlsx',  sheet_name='SDG 1', skiprows=1, header=1)  "
      ],
      "execution_count": 0,
      "outputs": []
    },
    {
      "cell_type": "code",
      "metadata": {
        "id": "fDlCAWaU-3EG",
        "colab_type": "code",
        "outputId": "299020a8-2027-4e5e-ef87-1637786ebaa1",
        "colab": {
          "base_uri": "https://localhost:8080/",
          "height": 34
        }
      },
      "source": [
        "data = pd.read_excel('keywords_file.xlsx')  \n",
        "data.shape"
      ],
      "execution_count": 33,
      "outputs": [
        {
          "output_type": "execute_result",
          "data": {
            "text/plain": [
              "(14, 3)"
            ]
          },
          "metadata": {
            "tags": []
          },
          "execution_count": 33
        }
      ]
    },
    {
      "cell_type": "code",
      "metadata": {
        "id": "m24ESg85Aq4h",
        "colab_type": "code",
        "outputId": "91ef23ea-75db-46e9-b4e3-d89ec5e65dca",
        "colab": {
          "base_uri": "https://localhost:8080/",
          "height": 306
        }
      },
      "source": [
        "xls = pd.ExcelFile('keywords_file.xlsx')\n",
        "sdg_name = xls.sheet_names\n",
        "sdg_name"
      ],
      "execution_count": 34,
      "outputs": [
        {
          "output_type": "execute_result",
          "data": {
            "text/plain": [
              "['SDG 1',\n",
              " 'SDG 2',\n",
              " 'SDG 3',\n",
              " 'SDG 4',\n",
              " 'SDG 5',\n",
              " 'SDG 6',\n",
              " 'SDG 7',\n",
              " 'SDG 8',\n",
              " 'SDG 9',\n",
              " 'SDG 10',\n",
              " 'SDG 11',\n",
              " 'SDG 12',\n",
              " 'SDG 13',\n",
              " 'SDG 14',\n",
              " 'SDG 15',\n",
              " 'SDG 16',\n",
              " 'SDG 17']"
            ]
          },
          "metadata": {
            "tags": []
          },
          "execution_count": 34
        }
      ]
    },
    {
      "cell_type": "code",
      "metadata": {
        "id": "I5h1rKvTA6cx",
        "colab_type": "code",
        "outputId": "d5e9ee5c-d049-40bd-9d50-6d1bbf70eee3",
        "colab": {
          "base_uri": "https://localhost:8080/",
          "height": 34
        }
      },
      "source": [
        "len(xls.sheet_names)"
      ],
      "execution_count": 35,
      "outputs": [
        {
          "output_type": "execute_result",
          "data": {
            "text/plain": [
              "17"
            ]
          },
          "metadata": {
            "tags": []
          },
          "execution_count": 35
        }
      ]
    },
    {
      "cell_type": "code",
      "metadata": {
        "id": "NkibACDAC0od",
        "colab_type": "code",
        "outputId": "20cddb05-4144-4eb3-a3a2-f27c8a0f7079",
        "colab": {
          "base_uri": "https://localhost:8080/",
          "height": 34
        }
      },
      "source": [
        "sdg_name[0]"
      ],
      "execution_count": 36,
      "outputs": [
        {
          "output_type": "execute_result",
          "data": {
            "text/plain": [
              "'SDG 1'"
            ]
          },
          "metadata": {
            "tags": []
          },
          "execution_count": 36
        }
      ]
    },
    {
      "cell_type": "code",
      "metadata": {
        "id": "t28CDL7QCWKi",
        "colab_type": "code",
        "outputId": "ab8cc5aa-fe35-4902-9f89-e2f1d8d66433",
        "colab": {
          "base_uri": "https://localhost:8080/",
          "height": 421
        }
      },
      "source": [
        " train1 = pd.read_excel('keywords_file.xlsx',  sheet_name=sdg_name[0], skiprows=1, header=1) \n",
        "\n",
        "train1"
      ],
      "execution_count": 37,
      "outputs": [
        {
          "output_type": "execute_result",
          "data": {
            "text/html": [
              "<div>\n",
              "<style scoped>\n",
              "    .dataframe tbody tr th:only-of-type {\n",
              "        vertical-align: middle;\n",
              "    }\n",
              "\n",
              "    .dataframe tbody tr th {\n",
              "        vertical-align: top;\n",
              "    }\n",
              "\n",
              "    .dataframe thead th {\n",
              "        text-align: right;\n",
              "    }\n",
              "</style>\n",
              "<table border=\"1\" class=\"dataframe\">\n",
              "  <thead>\n",
              "    <tr style=\"text-align: right;\">\n",
              "      <th></th>\n",
              "      <th>Targets</th>\n",
              "      <th>Indicators</th>\n",
              "      <th>Proposed Keywords</th>\n",
              "    </tr>\n",
              "  </thead>\n",
              "  <tbody>\n",
              "    <tr>\n",
              "      <th>0</th>\n",
              "      <td>1.1. By 2030, eradicate extreme poverty for al...</td>\n",
              "      <td>1.1.1. Proportion of population below the inte...</td>\n",
              "      <td>Poverty\\nEmployment\\nMoney, Monetary means</td>\n",
              "    </tr>\n",
              "    <tr>\n",
              "      <th>1</th>\n",
              "      <td>1.2 . By 2030, reduce at least by half the pro...</td>\n",
              "      <td>1.2.1. Proportion of population living below t...</td>\n",
              "      <td>Income\\nSalary\\nminimum wage\\ncash</td>\n",
              "    </tr>\n",
              "    <tr>\n",
              "      <th>2</th>\n",
              "      <td>NaN</td>\n",
              "      <td>1.2.2. Proportion of men, women and children o...</td>\n",
              "      <td>impoverished women \\nimpoverished chilren\\nchi...</td>\n",
              "    </tr>\n",
              "    <tr>\n",
              "      <th>3</th>\n",
              "      <td>1.3. Implement nationally appropriate social p...</td>\n",
              "      <td>1.3.1. Proportion of population covered by soc...</td>\n",
              "      <td>Social Protection Schemes\\nSocial Services\\nJo...</td>\n",
              "    </tr>\n",
              "    <tr>\n",
              "      <th>4</th>\n",
              "      <td>1.4 . By 2030, ensure that all men and women, ...</td>\n",
              "      <td>1.4.1. Proportion of population living in hous...</td>\n",
              "      <td>Basic Services\\nLand ownership\\nHouse ownershi...</td>\n",
              "    </tr>\n",
              "    <tr>\n",
              "      <th>5</th>\n",
              "      <td>NaN</td>\n",
              "      <td>1.4.2. Proportion of total adult population wi...</td>\n",
              "      <td>Land entitlement</td>\n",
              "    </tr>\n",
              "    <tr>\n",
              "      <th>6</th>\n",
              "      <td>1.5. By 2030, build the resilience of the poor...</td>\n",
              "      <td>1.5.1. Number of deaths, missing persons and p...</td>\n",
              "      <td>climate-resilience\\nenvironmental shocks\\nclim...</td>\n",
              "    </tr>\n",
              "    <tr>\n",
              "      <th>7</th>\n",
              "      <td>NaN</td>\n",
              "      <td>1.5.2. Direct disaster economic loss in relati...</td>\n",
              "      <td>economic loss\\nasset loss</td>\n",
              "    </tr>\n",
              "    <tr>\n",
              "      <th>8</th>\n",
              "      <td>NaN</td>\n",
              "      <td>1.5.3. Number of countries with national and l...</td>\n",
              "      <td>disaster risk management</td>\n",
              "    </tr>\n",
              "    <tr>\n",
              "      <th>9</th>\n",
              "      <td>1.A. Ensure significant mobilization of resour...</td>\n",
              "      <td>1.A.1. Proportion of resources allocated by th...</td>\n",
              "      <td>government subsidies services such as:\\ngovern...</td>\n",
              "    </tr>\n",
              "    <tr>\n",
              "      <th>10</th>\n",
              "      <td>NaN</td>\n",
              "      <td>1.A.2. Proportion of total government spending...</td>\n",
              "      <td>government funded programs\\ngovernment subsidi...</td>\n",
              "    </tr>\n",
              "    <tr>\n",
              "      <th>11</th>\n",
              "      <td>1.B. Create sound policy frameworks at the nat...</td>\n",
              "      <td>1.B.1. Proportion of government recurrent and ...</td>\n",
              "      <td>pro-poor development strategies\\nGender sensit...</td>\n",
              "    </tr>\n",
              "  </tbody>\n",
              "</table>\n",
              "</div>"
            ],
            "text/plain": [
              "                                              Targets  ...                                  Proposed Keywords\n",
              "0   1.1. By 2030, eradicate extreme poverty for al...  ...         Poverty\\nEmployment\\nMoney, Monetary means\n",
              "1   1.2 . By 2030, reduce at least by half the pro...  ...                 Income\\nSalary\\nminimum wage\\ncash\n",
              "2                                                 NaN  ...  impoverished women \\nimpoverished chilren\\nchi...\n",
              "3   1.3. Implement nationally appropriate social p...  ...  Social Protection Schemes\\nSocial Services\\nJo...\n",
              "4   1.4 . By 2030, ensure that all men and women, ...  ...  Basic Services\\nLand ownership\\nHouse ownershi...\n",
              "5                                                 NaN  ...                                   Land entitlement\n",
              "6   1.5. By 2030, build the resilience of the poor...  ...  climate-resilience\\nenvironmental shocks\\nclim...\n",
              "7                                                 NaN  ...                          economic loss\\nasset loss\n",
              "8                                                 NaN  ...                           disaster risk management\n",
              "9   1.A. Ensure significant mobilization of resour...  ...  government subsidies services such as:\\ngovern...\n",
              "10                                                NaN  ...  government funded programs\\ngovernment subsidi...\n",
              "11  1.B. Create sound policy frameworks at the nat...  ...  pro-poor development strategies\\nGender sensit...\n",
              "\n",
              "[12 rows x 3 columns]"
            ]
          },
          "metadata": {
            "tags": []
          },
          "execution_count": 37
        }
      ]
    },
    {
      "cell_type": "code",
      "metadata": {
        "id": "He1PRbCtBd-G",
        "colab_type": "code",
        "colab": {}
      },
      "source": [
        ""
      ],
      "execution_count": 0,
      "outputs": []
    },
    {
      "cell_type": "code",
      "metadata": {
        "id": "p-4CsbCwxDZ8",
        "colab_type": "code",
        "outputId": "3d65f8ce-6ea8-415d-af7a-7219e0f56f37",
        "colab": {
          "base_uri": "https://localhost:8080/",
          "height": 204
        }
      },
      "source": [
        "train.head()"
      ],
      "execution_count": 38,
      "outputs": [
        {
          "output_type": "execute_result",
          "data": {
            "text/html": [
              "<div>\n",
              "<style scoped>\n",
              "    .dataframe tbody tr th:only-of-type {\n",
              "        vertical-align: middle;\n",
              "    }\n",
              "\n",
              "    .dataframe tbody tr th {\n",
              "        vertical-align: top;\n",
              "    }\n",
              "\n",
              "    .dataframe thead th {\n",
              "        text-align: right;\n",
              "    }\n",
              "</style>\n",
              "<table border=\"1\" class=\"dataframe\">\n",
              "  <thead>\n",
              "    <tr style=\"text-align: right;\">\n",
              "      <th></th>\n",
              "      <th>Targets</th>\n",
              "      <th>Indicators</th>\n",
              "      <th>Proposed Keywords</th>\n",
              "    </tr>\n",
              "  </thead>\n",
              "  <tbody>\n",
              "    <tr>\n",
              "      <th>0</th>\n",
              "      <td>1.1. By 2030, eradicate extreme poverty for al...</td>\n",
              "      <td>1.1.1. Proportion of population below the inte...</td>\n",
              "      <td>Poverty\\nEmployment\\nMoney, Monetary means</td>\n",
              "    </tr>\n",
              "    <tr>\n",
              "      <th>1</th>\n",
              "      <td>1.2 . By 2030, reduce at least by half the pro...</td>\n",
              "      <td>1.2.1. Proportion of population living below t...</td>\n",
              "      <td>Income\\nSalary\\nminimum wage\\ncash</td>\n",
              "    </tr>\n",
              "    <tr>\n",
              "      <th>2</th>\n",
              "      <td>NaN</td>\n",
              "      <td>1.2.2. Proportion of men, women and children o...</td>\n",
              "      <td>impoverished women \\nimpoverished chilren\\nchi...</td>\n",
              "    </tr>\n",
              "    <tr>\n",
              "      <th>3</th>\n",
              "      <td>1.3. Implement nationally appropriate social p...</td>\n",
              "      <td>1.3.1. Proportion of population covered by soc...</td>\n",
              "      <td>Social Protection Schemes\\nSocial Services\\nJo...</td>\n",
              "    </tr>\n",
              "    <tr>\n",
              "      <th>4</th>\n",
              "      <td>1.4 . By 2030, ensure that all men and women, ...</td>\n",
              "      <td>1.4.1. Proportion of population living in hous...</td>\n",
              "      <td>Basic Services\\nLand ownership\\nHouse ownershi...</td>\n",
              "    </tr>\n",
              "  </tbody>\n",
              "</table>\n",
              "</div>"
            ],
            "text/plain": [
              "                                             Targets  ...                                  Proposed Keywords\n",
              "0  1.1. By 2030, eradicate extreme poverty for al...  ...         Poverty\\nEmployment\\nMoney, Monetary means\n",
              "1  1.2 . By 2030, reduce at least by half the pro...  ...                 Income\\nSalary\\nminimum wage\\ncash\n",
              "2                                                NaN  ...  impoverished women \\nimpoverished chilren\\nchi...\n",
              "3  1.3. Implement nationally appropriate social p...  ...  Social Protection Schemes\\nSocial Services\\nJo...\n",
              "4  1.4 . By 2030, ensure that all men and women, ...  ...  Basic Services\\nLand ownership\\nHouse ownershi...\n",
              "\n",
              "[5 rows x 3 columns]"
            ]
          },
          "metadata": {
            "tags": []
          },
          "execution_count": 38
        }
      ]
    },
    {
      "cell_type": "code",
      "metadata": {
        "id": "WI55d1VFq3hk",
        "colab_type": "code",
        "colab": {}
      },
      "source": [
        "#train.tail()"
      ],
      "execution_count": 0,
      "outputs": []
    },
    {
      "cell_type": "code",
      "metadata": {
        "id": "nqzp9pJT8vAN",
        "colab_type": "code",
        "colab": {}
      },
      "source": [
        "def replace_nan(tgt):\n",
        "    taille = range(0, len(tgt))\n",
        "    for t in taille:\n",
        "      if tgt[t]==\"nan\":\n",
        "        tgt[t]=tgt[t-1]\n",
        "    return tgt"
      ],
      "execution_count": 0,
      "outputs": []
    },
    {
      "cell_type": "code",
      "metadata": {
        "id": "3D-CJ3hT8yaI",
        "colab_type": "code",
        "colab": {}
      },
      "source": [
        "def replace_nan(tgt):\n",
        "    taille = range(0, len(tgt))\n",
        "    for t in taille:\n",
        "      if tgt[t]==\"nan\":\n",
        "        tgt[t]=tgt[t-1]\n",
        "    return tgt"
      ],
      "execution_count": 0,
      "outputs": []
    },
    {
      "cell_type": "code",
      "metadata": {
        "id": "siOeKSpW81VO",
        "colab_type": "code",
        "colab": {}
      },
      "source": [
        "def add_dot(tgt):\n",
        "    taille = range(0, len(tgt))\n",
        "    for t in taille:\n",
        "      stgt = list(tgt[t])\n",
        "      if stgt[-1]!=\".\":\n",
        "        tgt[t] = tgt[t]+\".\"\n",
        "    return tgt"
      ],
      "execution_count": 0,
      "outputs": []
    },
    {
      "cell_type": "code",
      "metadata": {
        "id": "4Zt9BDt-87JB",
        "colab_type": "code",
        "colab": {}
      },
      "source": [
        "def get_first_string(column):\n",
        "    target = []\n",
        "    for l in column:\n",
        "        ligne = str(l)\n",
        "        tab = ligne.split(\" \")\n",
        "        target.append(tab[0])\n",
        "    return target"
      ],
      "execution_count": 0,
      "outputs": []
    },
    {
      "cell_type": "code",
      "metadata": {
        "id": "eu7SsPe79tG6",
        "colab_type": "code",
        "colab": {}
      },
      "source": [
        "def replace_slash(column):\n",
        "# Extract the first string in each row of column Indicators\n",
        "  prop_comb = []\n",
        "  for prows in column:\n",
        "    t3 = prows.replace(\"\\n\", \",\")\n",
        "    prop_comb.append(t3)\n",
        "  return prop_comb"
      ],
      "execution_count": 0,
      "outputs": []
    },
    {
      "cell_type": "code",
      "metadata": {
        "id": "QBEStT6LuQRE",
        "colab_type": "code",
        "colab": {}
      },
      "source": [
        "def preprocess_col_targets(column):\n",
        "    tgt = get_first_string(column)\n",
        "    replace_nan(tgt)\n",
        "    add_dot(tgt)\n",
        "    frame = pd.DataFrame(tgt)\n",
        "    return frame"
      ],
      "execution_count": 0,
      "outputs": []
    },
    {
      "cell_type": "code",
      "metadata": {
        "id": "Pzhyv0Hm2drV",
        "colab_type": "code",
        "colab": {}
      },
      "source": [
        "train.loc[:,'Targets'] =  preprocess_col_targets(train.iloc[:,0])"
      ],
      "execution_count": 0,
      "outputs": []
    },
    {
      "cell_type": "code",
      "metadata": {
        "id": "4LtOFg5l19H8",
        "colab_type": "code",
        "colab": {}
      },
      "source": [
        "def preprocess_col_indicators(indicators):\n",
        "  # Extract the first string in each row of column Indicators\n",
        "  comb_ind = get_first_string(indicators)\n",
        "    \n",
        "  #convert list to dataframe and Replace Indicators by the new Indicators\n",
        "  indicators = pd.DataFrame(comb_ind)\n",
        "\n",
        "  return indicators\n"
      ],
      "execution_count": 0,
      "outputs": []
    },
    {
      "cell_type": "code",
      "metadata": {
        "id": "W31HY7-J3cQS",
        "colab_type": "code",
        "colab": {}
      },
      "source": [
        "train.loc[:,'Indicators'] =  preprocess_col_indicators(train.iloc[:,1])"
      ],
      "execution_count": 0,
      "outputs": []
    },
    {
      "cell_type": "code",
      "metadata": {
        "id": "tptAQH6j3nlm",
        "colab_type": "code",
        "colab": {}
      },
      "source": [
        "def preprocess_col_prop_keywords(prop_keywds):\n",
        "  # Extract the first string in each row of column Indicators\n",
        "  prop_comb =replace_slash(prop_keywds)\n",
        "\n",
        "  #convert list to dataframe and Replace Indicators by the new Indicators\n",
        "  prop_keywds = pd.DataFrame(prop_comb)\n",
        "\n",
        "  return prop_keywds"
      ],
      "execution_count": 0,
      "outputs": []
    },
    {
      "cell_type": "code",
      "metadata": {
        "id": "2KPgNTat4NBr",
        "colab_type": "code",
        "colab": {}
      },
      "source": [
        "train.iloc[:,2] =  preprocess_col_prop_keywords(train.iloc[:,2])"
      ],
      "execution_count": 0,
      "outputs": []
    },
    {
      "cell_type": "code",
      "metadata": {
        "id": "cdAGEnF74Z2n",
        "colab_type": "code",
        "outputId": "1de2f417-883e-4926-f747-f87adfc4ac5a",
        "colab": {
          "base_uri": "https://localhost:8080/",
          "height": 421
        }
      },
      "source": [
        "train"
      ],
      "execution_count": 51,
      "outputs": [
        {
          "output_type": "execute_result",
          "data": {
            "text/html": [
              "<div>\n",
              "<style scoped>\n",
              "    .dataframe tbody tr th:only-of-type {\n",
              "        vertical-align: middle;\n",
              "    }\n",
              "\n",
              "    .dataframe tbody tr th {\n",
              "        vertical-align: top;\n",
              "    }\n",
              "\n",
              "    .dataframe thead th {\n",
              "        text-align: right;\n",
              "    }\n",
              "</style>\n",
              "<table border=\"1\" class=\"dataframe\">\n",
              "  <thead>\n",
              "    <tr style=\"text-align: right;\">\n",
              "      <th></th>\n",
              "      <th>Targets</th>\n",
              "      <th>Indicators</th>\n",
              "      <th>Proposed Keywords</th>\n",
              "    </tr>\n",
              "  </thead>\n",
              "  <tbody>\n",
              "    <tr>\n",
              "      <th>0</th>\n",
              "      <td>1.1.</td>\n",
              "      <td>1.1.1.</td>\n",
              "      <td>Poverty,Employment,Money, Monetary means</td>\n",
              "    </tr>\n",
              "    <tr>\n",
              "      <th>1</th>\n",
              "      <td>1.2.</td>\n",
              "      <td>1.2.1.</td>\n",
              "      <td>Income,Salary,minimum wage,cash</td>\n",
              "    </tr>\n",
              "    <tr>\n",
              "      <th>2</th>\n",
              "      <td>1.2.</td>\n",
              "      <td>1.2.2.</td>\n",
              "      <td>impoverished women ,impoverished chilren,child...</td>\n",
              "    </tr>\n",
              "    <tr>\n",
              "      <th>3</th>\n",
              "      <td>1.3.</td>\n",
              "      <td>1.3.1.</td>\n",
              "      <td>Social Protection Schemes,Social Services,Jobs...</td>\n",
              "    </tr>\n",
              "    <tr>\n",
              "      <th>4</th>\n",
              "      <td>1.4.</td>\n",
              "      <td>1.4.1.</td>\n",
              "      <td>Basic Services,Land ownership,House ownership,...</td>\n",
              "    </tr>\n",
              "    <tr>\n",
              "      <th>5</th>\n",
              "      <td>1.4.</td>\n",
              "      <td>1.4.2.</td>\n",
              "      <td>Land entitlement</td>\n",
              "    </tr>\n",
              "    <tr>\n",
              "      <th>6</th>\n",
              "      <td>1.5.</td>\n",
              "      <td>1.5.1.</td>\n",
              "      <td>climate-resilience,environmental shocks,climat...</td>\n",
              "    </tr>\n",
              "    <tr>\n",
              "      <th>7</th>\n",
              "      <td>1.5.</td>\n",
              "      <td>1.5.2.</td>\n",
              "      <td>economic loss,asset loss</td>\n",
              "    </tr>\n",
              "    <tr>\n",
              "      <th>8</th>\n",
              "      <td>1.5.</td>\n",
              "      <td>1.5.3.</td>\n",
              "      <td>disaster risk management</td>\n",
              "    </tr>\n",
              "    <tr>\n",
              "      <th>9</th>\n",
              "      <td>1.A.</td>\n",
              "      <td>1.A.1.</td>\n",
              "      <td>government subsidies services such as:,governm...</td>\n",
              "    </tr>\n",
              "    <tr>\n",
              "      <th>10</th>\n",
              "      <td>1.A.</td>\n",
              "      <td>1.A.2.</td>\n",
              "      <td>government funded programs,government subsidie...</td>\n",
              "    </tr>\n",
              "    <tr>\n",
              "      <th>11</th>\n",
              "      <td>1.B.</td>\n",
              "      <td>1.B.1.</td>\n",
              "      <td>pro-poor development strategies,Gender sensiti...</td>\n",
              "    </tr>\n",
              "  </tbody>\n",
              "</table>\n",
              "</div>"
            ],
            "text/plain": [
              "   Targets Indicators                                  Proposed Keywords\n",
              "0     1.1.     1.1.1.           Poverty,Employment,Money, Monetary means\n",
              "1     1.2.     1.2.1.                    Income,Salary,minimum wage,cash\n",
              "2     1.2.     1.2.2.  impoverished women ,impoverished chilren,child...\n",
              "3     1.3.     1.3.1.  Social Protection Schemes,Social Services,Jobs...\n",
              "4     1.4.     1.4.1.  Basic Services,Land ownership,House ownership,...\n",
              "5     1.4.     1.4.2.                                   Land entitlement\n",
              "6     1.5.     1.5.1.  climate-resilience,environmental shocks,climat...\n",
              "7     1.5.     1.5.2.                           economic loss,asset loss\n",
              "8     1.5.     1.5.3.                           disaster risk management\n",
              "9     1.A.     1.A.1.  government subsidies services such as:,governm...\n",
              "10    1.A.     1.A.2.  government funded programs,government subsidie...\n",
              "11    1.B.     1.B.1.  pro-poor development strategies,Gender sensiti..."
            ]
          },
          "metadata": {
            "tags": []
          },
          "execution_count": 51
        }
      ]
    },
    {
      "cell_type": "code",
      "metadata": {
        "id": "_XyPR9sFG6cO",
        "colab_type": "code",
        "colab": {
          "base_uri": "https://localhost:8080/",
          "height": 1000
        },
        "outputId": "9ff2e393-20f8-4b5f-ee07-9209d3970883"
      },
      "source": [
        "i=1\n",
        "list_sheet_data = []\n",
        "for sheet in sdg_name:\n",
        "  sheet_data_ = pd.read_excel('keywords_file.xlsx',  sheet_name=sheet, skiprows=1, header=1)\n",
        "  sheet_data_.loc[:,'Targets'] =  preprocess_col_targets(sheet_data_.iloc[:,0])\n",
        "  sheet_data_.loc[:,'Indicators'] =  preprocess_col_indicators(sheet_data_.iloc[:,1])\n",
        "  sheet_data_.loc[:,'Proposed Keywords'] =  preprocess_col_prop_keywords(sheet_data_.iloc[:,2])\n",
        "  list_sheet_data.append(sheet_data_)\n",
        "  if(i==8): break\n",
        "  i=i+1\n",
        "list_sheet_data\n"
      ],
      "execution_count": 52,
      "outputs": [
        {
          "output_type": "execute_result",
          "data": {
            "text/plain": [
              "[   Targets Indicators                                  Proposed Keywords\n",
              " 0     1.1.     1.1.1.           Poverty,Employment,Money, Monetary means\n",
              " 1     1.2.     1.2.1.                    Income,Salary,minimum wage,cash\n",
              " 2     1.2.     1.2.2.  impoverished women ,impoverished chilren,child...\n",
              " 3     1.3.     1.3.1.  Social Protection Schemes,Social Services,Jobs...\n",
              " 4     1.4.     1.4.1.  Basic Services,Land ownership,House ownership,...\n",
              " 5     1.4.     1.4.2.                                   Land entitlement\n",
              " 6     1.5.     1.5.1.  climate-resilience,environmental shocks,climat...\n",
              " 7     1.5.     1.5.2.                           economic loss,asset loss\n",
              " 8     1.5.     1.5.3.                           disaster risk management\n",
              " 9     1.A.     1.A.1.  government subsidies services such as:,governm...\n",
              " 10    1.A.     1.A.2.  government funded programs,government subsidie...\n",
              " 11    1.B.     1.B.1.  pro-poor development strategies,Gender sensiti...,\n",
              "    Targets Indicators                                  Proposed Keywords\n",
              " 0     2.1.     2.1.1.  Hunger,Nutritious,Food,nourishment,undernouris...\n",
              " 1     2.1.     2.1.2.      Food security,Food insecurity,Food deficiency\n",
              " 2     2.2.     2.2.1.       Malnutrition,Stunting,Nutritional,lactating \n",
              " 3     2.2.     2.2.2.                     Wasting,underweight,overweight\n",
              " 4     2.3.     2.3.1.  agricultural production,income,indigenous peop...\n",
              " 5     2.3.     2.3.2.                                     food producers\n",
              " 6     2.4.     2.4.1.  Climate change adaptation,resilient agricultur...\n",
              " 7     2.5.     2.5.1.  plant genetic ,animal genetic ,seeds,food crop...\n",
              " 8     2.5.   \\n2.5.2.                                        local breed\n",
              " 9     2.A.     2.A.1.  rural infrastructure,farming equipment,plant g...\n",
              " 10    2.A.     2.A.2.                                           food aid\n",
              " 11    2.B.     2.B.1.           Agricultural export,agricultural market,\n",
              " 12    2.B.     2.b.2.                      agricultural export subsidies\n",
              " 13    2.c.     2.c.1.                            food price,food reserve,\n",
              "    Targets Indicators                                  Proposed Keywords\n",
              " 0     3.1.     3.1.1.                                 maternal mortality\n",
              " 1     3.1.   \\n3.1.2.                               pregnancy,childbirth\n",
              " 2     3.2.     3.2.1.                      child health,infant mortality\n",
              " 3     3.2.     3.2.2.                                 neonatal mortality\n",
              " 4     3.3.     3.3.1.  HIV,AIDS,Communicable disease,water-borne disease\n",
              " 5     3.3.     3.3.2.                                       Tuberculosis\n",
              " 6     3.3.     3.3.3.                                            Malaria\n",
              " 7     3.3.     3.3.4.                                        Hepatitis B\n",
              " 8     3.4.     3.4.1.  cardiovascular disease,cancer,diabetes ,respir...\n",
              " 9     3.4.     3.4.2.                                            suicide\n",
              " 10    3.5.     3.5.1.  medical treatment ,disease prevention,rehabili...\n",
              " 11    3.5.     3.5.2.  substance abuse ,narcotic drug abuse,harmful u...\n",
              " 12    3.6.     3.6.1.          road traffic injuries,road traffic deaths\n",
              " 13    3.7.     3.7.1.                 reproducive health,family planning\n",
              " 14    3.7.     3.7.2.                                   adolescent birth\n",
              " 15    3.8.     3.8.1.                        access to medicine,vaccines\n",
              " 16    3.8.     3.8.2.                            healthcare expenditures\n",
              " 17    3.9.     3.9.1.  air pollution,water pollution,soil pollution,h...\n",
              " 18    3.9.     3.9.2.     unsafe water,unsafe sanitation,lack of hygiene\n",
              " 19    3.9.     3.9.3.                                          poisoning\n",
              " 20    3.A.     3.A.1.                                           tobacco \n",
              " 21    3.B.     3.B.1.                                affordable medicine\n",
              " 22    3.B.     3.B.2.                                   medical research\n",
              " 23    3.C.     3.C.1.                    health financing,health workers\n",
              " 24    3.D.     3.D.1.                             health risks,emergency,\n",
              "    Targets Indicators                                  Proposed Keywords\n",
              " 0     4.1.     4.1.1.  primary education,secondary education,read,wri...\n",
              " 1     4.2.     4.2.1.                         early childhood education,\n",
              " 2     4.2.     4.2.2.                              pre-primary education\n",
              " 3     4.3.     4.3.1.  Technical training,vocational training,tertiar...\n",
              " 4     4.4.     4.4.1.  Information and communication tehcnology,skill...\n",
              " 5     4.5.     4.5.1.          disabilities,vulnerable,indigenous people\n",
              " 6     4.6.     4.6.1.                                     youth literacy\n",
              " 7     4.7.     4.7.1.  global citizen,gender equality,curricula,teach...\n",
              " 8     4.A.     4.A.1.  access to electricity,access to internet,compu...\n",
              " 9     4.B.     4.B.1.  scholarship,higher education,enrolment,scienti...\n",
              " 10    4.C.     4.C.1.                teacher training,qualified teachers,\n",
              "    Targets Indicators                                  Proposed Keywords\n",
              " 0     5.1.     5.1.1.                                  women,girl,gender\n",
              " 1     5.2.     5.2.1.  sexual violence,physical violence,psychologica...\n",
              " 2     5.2.     5.2.2.                                   intimate,partner\n",
              " 3     5.3.     5.3.1.                    forced marriage,male,female,sex\n",
              " 4     5.3.     5.3.2.                                 genital mutilation\n",
              " 5     5.4.     5.4.1.             domestic work,responsibility,care work\n",
              " 6     5.5.     5.5.1.         women participation,opportunity,leadership\n",
              " 7     5.5.     5.5.2.  woemn representation in parliament,women repre...\n",
              " 8     5.6.     5.6.1.                           reproductive health care\n",
              " 9     5.6.     5.6.2.                                     pro-women laws\n",
              " 10    5.A.     5.A.1.  equal rights,equal access to other forms of pr...\n",
              " 11    5.A.     5.A.2.                                     land ownership\n",
              " 12    5.B.     5.B.1.  women access to enabling technology,women acce...\n",
              " 13    5.C.     5.C.1.                                    gender equality,\n",
              "    Targets Indicators                                  Proposed Keywords\n",
              " 0     6.1.     6.1.1.                   water,drinking water,clean water\n",
              " 1     6.2.     6.2.1.                    sanitation,hygiene,faecal waste\n",
              " 2     6.3.     6.3.1.  wastewater,hazarsdous chemical materials,pollu...\n",
              " 3     6.3.     6.3.2.                                      ambient water\n",
              " 4     6.4.     6.4.1.                               water-use efficiency\n",
              " 5     6.4.     6.4.2.                                         freshwater\n",
              " 6     6.5.     6.5.1.                 watershed,water resoure management\n",
              " 7     6.5.     6.5.2.                                  damn,water bassin\n",
              " 8     6.6.     6.6.1.                       wetland,rivers,aquifers,lake\n",
              " 9     6.A.     6.A.1.  water harvesting,desalination,water efficiency...\n",
              " 10    6.B.     6.B.1.              water managment,sanitation management,\n",
              "   Targets Indicators                                  Proposed Keywords\n",
              " 0    7.1.     7.1.1.  access to electricity,modern energy,affordable...\n",
              " 1    7.1.     7.1.2.                            clean fuel for cooking,\n",
              " 2    7.2.     7.2.1.                                   renewable energy\n",
              " 3    7.3.     7.3.1.                                   efficient energy\n",
              " 4    7.A.     7.A.1.  clean energy,energy infrastructure,energy tech...\n",
              " 5    7.B.     7.B.1.                               investment in energy,\n",
              "    Targets Indicators                                  Proposed Keywords\n",
              " 0     8.1.     8.1.1.                   economic growth,inclusive growth\n",
              " 1     8.2.     8.2.1.   economic diversification, economic diversific...\n",
              " 2     8.3.     8.3.1.  decent job creation,entrepreneurship,creativit...\n",
              " 3     8.4.     8.4.1.                               resource consumption\n",
              " 4     8.4.     8.4.2.                               domestic consumption\n",
              " 5     8.5.     8.5.1.  productive employment,decent work for youg peo...\n",
              " 6     8.5.     8.5.2.                                       unemployment\n",
              " 7     8.6.     8.6.1.                                   youth employment\n",
              " 8     8.7.     8.7.1.  forced labour,modern slavery ,human traffickin...\n",
              " 9     8.8.     8.8.1.  safe working environments ,secure working envi...\n",
              " 10    8.8.     8.8.2.                              collective bargaining\n",
              " 11    8.9.     8.9.1.                                            tourism\n",
              " 12    8.9.     8.9.2.                                    jobs in tourism\n",
              " 13   8.10.    8.10.1.  access to banking services,access to insurance...\n",
              " 14   8.10.    8.10.2.                                            banking\n",
              " 15    8.A.     8.A.1.                                      Aid for trade\n",
              " 16    8.B.     8.B.1.  government spending in social protection,gover...]"
            ]
          },
          "metadata": {
            "tags": []
          },
          "execution_count": 52
        }
      ]
    },
    {
      "cell_type": "code",
      "metadata": {
        "id": "9Tmmjuf8LQO8",
        "colab_type": "code",
        "colab": {}
      },
      "source": [
        ""
      ],
      "execution_count": 0,
      "outputs": []
    },
    {
      "cell_type": "code",
      "metadata": {
        "id": "ee-SsC9SLeaA",
        "colab_type": "code",
        "colab": {
          "base_uri": "https://localhost:8080/",
          "height": 204
        },
        "outputId": "601c4611-8bdc-4738-c5e8-d88fabd6db40"
      },
      "source": [
        "framelist.head(5)"
      ],
      "execution_count": 53,
      "outputs": [
        {
          "output_type": "execute_result",
          "data": {
            "text/html": [
              "<div>\n",
              "<style scoped>\n",
              "    .dataframe tbody tr th:only-of-type {\n",
              "        vertical-align: middle;\n",
              "    }\n",
              "\n",
              "    .dataframe tbody tr th {\n",
              "        vertical-align: top;\n",
              "    }\n",
              "\n",
              "    .dataframe thead th {\n",
              "        text-align: right;\n",
              "    }\n",
              "</style>\n",
              "<table border=\"1\" class=\"dataframe\">\n",
              "  <thead>\n",
              "    <tr style=\"text-align: right;\">\n",
              "      <th></th>\n",
              "      <th>0</th>\n",
              "    </tr>\n",
              "  </thead>\n",
              "  <tbody>\n",
              "    <tr>\n",
              "      <th>0</th>\n",
              "      <td>Targets Indicators                         ...</td>\n",
              "    </tr>\n",
              "    <tr>\n",
              "      <th>1</th>\n",
              "      <td>Targets Indicators                         ...</td>\n",
              "    </tr>\n",
              "    <tr>\n",
              "      <th>2</th>\n",
              "      <td>Targets Indicators                         ...</td>\n",
              "    </tr>\n",
              "    <tr>\n",
              "      <th>3</th>\n",
              "      <td>Targets Indicators                        ...</td>\n",
              "    </tr>\n",
              "    <tr>\n",
              "      <th>4</th>\n",
              "      <td>Targets Indicators                         ...</td>\n",
              "    </tr>\n",
              "  </tbody>\n",
              "</table>\n",
              "</div>"
            ],
            "text/plain": [
              "                                                   0\n",
              "0     Targets Indicators                         ...\n",
              "1     Targets Indicators                         ...\n",
              "2     Targets Indicators                         ...\n",
              "3      Targets Indicators                        ...\n",
              "4     Targets Indicators                         ..."
            ]
          },
          "metadata": {
            "tags": []
          },
          "execution_count": 53
        }
      ]
    },
    {
      "cell_type": "code",
      "metadata": {
        "id": "ckFaqf44J1Gw",
        "colab_type": "code",
        "colab": {}
      },
      "source": [
        "appended_df = pd.concat(list_sheet_data)\n",
        "appended_df.to_excel(\"new_keywords_file.xlsx\", index=False)"
      ],
      "execution_count": 0,
      "outputs": []
    },
    {
      "cell_type": "code",
      "metadata": {
        "id": "E-pVDAhsG94I",
        "colab_type": "code",
        "outputId": "a23b4f05-6c2e-4421-d10f-bd50470246bf",
        "colab": {
          "base_uri": "https://localhost:8080/",
          "height": 419
        }
      },
      "source": [
        "appended_df"
      ],
      "execution_count": 55,
      "outputs": [
        {
          "output_type": "execute_result",
          "data": {
            "text/html": [
              "<div>\n",
              "<style scoped>\n",
              "    .dataframe tbody tr th:only-of-type {\n",
              "        vertical-align: middle;\n",
              "    }\n",
              "\n",
              "    .dataframe tbody tr th {\n",
              "        vertical-align: top;\n",
              "    }\n",
              "\n",
              "    .dataframe thead th {\n",
              "        text-align: right;\n",
              "    }\n",
              "</style>\n",
              "<table border=\"1\" class=\"dataframe\">\n",
              "  <thead>\n",
              "    <tr style=\"text-align: right;\">\n",
              "      <th></th>\n",
              "      <th>Targets</th>\n",
              "      <th>Indicators</th>\n",
              "      <th>Proposed Keywords</th>\n",
              "    </tr>\n",
              "  </thead>\n",
              "  <tbody>\n",
              "    <tr>\n",
              "      <th>0</th>\n",
              "      <td>1.1.</td>\n",
              "      <td>1.1.1.</td>\n",
              "      <td>Poverty,Employment,Money, Monetary means</td>\n",
              "    </tr>\n",
              "    <tr>\n",
              "      <th>1</th>\n",
              "      <td>1.2.</td>\n",
              "      <td>1.2.1.</td>\n",
              "      <td>Income,Salary,minimum wage,cash</td>\n",
              "    </tr>\n",
              "    <tr>\n",
              "      <th>2</th>\n",
              "      <td>1.2.</td>\n",
              "      <td>1.2.2.</td>\n",
              "      <td>impoverished women ,impoverished chilren,child...</td>\n",
              "    </tr>\n",
              "    <tr>\n",
              "      <th>3</th>\n",
              "      <td>1.3.</td>\n",
              "      <td>1.3.1.</td>\n",
              "      <td>Social Protection Schemes,Social Services,Jobs...</td>\n",
              "    </tr>\n",
              "    <tr>\n",
              "      <th>4</th>\n",
              "      <td>1.4.</td>\n",
              "      <td>1.4.1.</td>\n",
              "      <td>Basic Services,Land ownership,House ownership,...</td>\n",
              "    </tr>\n",
              "    <tr>\n",
              "      <th>...</th>\n",
              "      <td>...</td>\n",
              "      <td>...</td>\n",
              "      <td>...</td>\n",
              "    </tr>\n",
              "    <tr>\n",
              "      <th>12</th>\n",
              "      <td>8.9.</td>\n",
              "      <td>8.9.2.</td>\n",
              "      <td>jobs in tourism</td>\n",
              "    </tr>\n",
              "    <tr>\n",
              "      <th>13</th>\n",
              "      <td>8.10.</td>\n",
              "      <td>8.10.1.</td>\n",
              "      <td>access to banking services,access to insurance...</td>\n",
              "    </tr>\n",
              "    <tr>\n",
              "      <th>14</th>\n",
              "      <td>8.10.</td>\n",
              "      <td>8.10.2.</td>\n",
              "      <td>banking</td>\n",
              "    </tr>\n",
              "    <tr>\n",
              "      <th>15</th>\n",
              "      <td>8.A.</td>\n",
              "      <td>8.A.1.</td>\n",
              "      <td>Aid for trade</td>\n",
              "    </tr>\n",
              "    <tr>\n",
              "      <th>16</th>\n",
              "      <td>8.B.</td>\n",
              "      <td>8.B.1.</td>\n",
              "      <td>government spending in social protection,gover...</td>\n",
              "    </tr>\n",
              "  </tbody>\n",
              "</table>\n",
              "<p>110 rows × 3 columns</p>\n",
              "</div>"
            ],
            "text/plain": [
              "   Targets Indicators                                  Proposed Keywords\n",
              "0     1.1.     1.1.1.           Poverty,Employment,Money, Monetary means\n",
              "1     1.2.     1.2.1.                    Income,Salary,minimum wage,cash\n",
              "2     1.2.     1.2.2.  impoverished women ,impoverished chilren,child...\n",
              "3     1.3.     1.3.1.  Social Protection Schemes,Social Services,Jobs...\n",
              "4     1.4.     1.4.1.  Basic Services,Land ownership,House ownership,...\n",
              "..     ...        ...                                                ...\n",
              "12    8.9.     8.9.2.                                    jobs in tourism\n",
              "13   8.10.    8.10.1.  access to banking services,access to insurance...\n",
              "14   8.10.    8.10.2.                                            banking\n",
              "15    8.A.     8.A.1.                                      Aid for trade\n",
              "16    8.B.     8.B.1.  government spending in social protection,gover...\n",
              "\n",
              "[110 rows x 3 columns]"
            ]
          },
          "metadata": {
            "tags": []
          },
          "execution_count": 55
        }
      ]
    }
  ]
}