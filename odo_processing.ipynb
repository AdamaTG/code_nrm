{
  "nbformat": 4,
  "nbformat_minor": 0,
  "metadata": {
    "colab": {
      "name": "odo_processing.ipynb",
      "provenance": [],
      "collapsed_sections": [],
      "include_colab_link": true
    },
    "kernelspec": {
      "name": "python3",
      "display_name": "Python 3"
    }
  },
  "cells": [
    {
      "cell_type": "markdown",
      "metadata": {
        "id": "view-in-github",
        "colab_type": "text"
      },
      "source": [
        "<a href=\"https://colab.research.google.com/github/AdamaTG/code_nrm/blob/master/odo_processing.ipynb\" target=\"_parent\"><img src=\"https://colab.research.google.com/assets/colab-badge.svg\" alt=\"Open In Colab\"/></a>"
      ]
    },
    {
      "cell_type": "code",
      "metadata": {
        "id": "F6Tr8ufuiTJK",
        "colab_type": "code",
        "colab": {}
      },
      "source": [
        "import pandas as pd\n",
        "import numpy as np\n",
        "import matplotlib.pyplot as plt\n",
        "import seaborn as sns\n",
        "from IPython.display import display\n",
        "from datetime import datetime\n",
        "import nltk\n",
        "from nltk.corpus import stopwords\n",
        "from nltk.stem import WordNetLemmatizer\n",
        "import re\n",
        "\n",
        "stemmer = WordNetLemmatizer()\n",
        "sns.set_style(\"whitegrid\")\n",
        "%matplotlib inline"
      ],
      "execution_count": 0,
      "outputs": []
    },
    {
      "cell_type": "code",
      "metadata": {
        "id": "e5Rvt4hcjDUF",
        "colab_type": "code",
        "colab": {}
      },
      "source": [
        "train = pd.read_excel('keywords_file.xlsx',  sheet_name='SDG 1', skiprows=1, header=1)  "
      ],
      "execution_count": 0,
      "outputs": []
    },
    {
      "cell_type": "code",
      "metadata": {
        "id": "fDlCAWaU-3EG",
        "colab_type": "code",
        "outputId": "299020a8-2027-4e5e-ef87-1637786ebaa1",
        "colab": {
          "base_uri": "https://localhost:8080/",
          "height": 34
        }
      },
      "source": [
        "data = pd.read_excel('keywords_file.xlsx')  \n",
        "data.shape"
      ],
      "execution_count": 33,
      "outputs": [
        {
          "output_type": "execute_result",
          "data": {
            "text/plain": [
              "(14, 3)"
            ]
          },
          "metadata": {
            "tags": []
          },
          "execution_count": 33
        }
      ]
    },
    {
      "cell_type": "code",
      "metadata": {
        "id": "m24ESg85Aq4h",
        "colab_type": "code",
        "colab": {}
      },
      "source": [
        "xls = pd.ExcelFile('keywords_file.xlsx')\n",
        "sdg_name = xls.sheet_names\n",
        "sdg_name"
      ],
      "execution_count": 0,
      "outputs": []
    },
    {
      "cell_type": "code",
      "metadata": {
        "id": "I5h1rKvTA6cx",
        "colab_type": "code",
        "colab": {}
      },
      "source": [
        "len(xls.sheet_names)"
      ],
      "execution_count": 0,
      "outputs": []
    },
    {
      "cell_type": "code",
      "metadata": {
        "id": "NkibACDAC0od",
        "colab_type": "code",
        "colab": {}
      },
      "source": [
        "sdg_name[0]"
      ],
      "execution_count": 0,
      "outputs": []
    },
    {
      "cell_type": "code",
      "metadata": {
        "id": "t28CDL7QCWKi",
        "colab_type": "code",
        "colab": {}
      },
      "source": [
        " train1 = pd.read_excel('keywords_file.xlsx',  sheet_name=sdg_name[0], skiprows=1, header=1) \n",
        "\n",
        "train1"
      ],
      "execution_count": 0,
      "outputs": []
    },
    {
      "cell_type": "code",
      "metadata": {
        "id": "p-4CsbCwxDZ8",
        "colab_type": "code",
        "colab": {}
      },
      "source": [
        "train.head()"
      ],
      "execution_count": 0,
      "outputs": []
    },
    {
      "cell_type": "code",
      "metadata": {
        "id": "WI55d1VFq3hk",
        "colab_type": "code",
        "colab": {}
      },
      "source": [
        "#train.tail()"
      ],
      "execution_count": 0,
      "outputs": []
    },
    {
      "cell_type": "code",
      "metadata": {
        "id": "nqzp9pJT8vAN",
        "colab_type": "code",
        "colab": {}
      },
      "source": [
        "def replace_nan(tgt):\n",
        "    taille = range(0, len(tgt))\n",
        "    for t in taille:\n",
        "      if tgt[t]==\"nan\":\n",
        "        tgt[t]=tgt[t-1]\n",
        "    return tgt"
      ],
      "execution_count": 0,
      "outputs": []
    },
    {
      "cell_type": "code",
      "metadata": {
        "id": "3D-CJ3hT8yaI",
        "colab_type": "code",
        "colab": {}
      },
      "source": [
        "def replace_nan(tgt):\n",
        "    taille = range(0, len(tgt))\n",
        "    for t in taille:\n",
        "      if tgt[t]==\"nan\":\n",
        "        tgt[t]=tgt[t-1]\n",
        "    return tgt"
      ],
      "execution_count": 0,
      "outputs": []
    },
    {
      "cell_type": "code",
      "metadata": {
        "id": "siOeKSpW81VO",
        "colab_type": "code",
        "colab": {}
      },
      "source": [
        "def add_dot(tgt):\n",
        "    taille = range(0, len(tgt))\n",
        "    for t in taille:\n",
        "      stgt = list(tgt[t])\n",
        "      if stgt[-1]!=\".\":\n",
        "        tgt[t] = tgt[t]+\".\"\n",
        "    return tgt"
      ],
      "execution_count": 0,
      "outputs": []
    },
    {
      "cell_type": "code",
      "metadata": {
        "id": "4Zt9BDt-87JB",
        "colab_type": "code",
        "colab": {}
      },
      "source": [
        "def get_first_string(column):\n",
        "    target = []\n",
        "    for l in column:\n",
        "        ligne = str(l)\n",
        "        tab = ligne.split(\" \")\n",
        "        target.append(tab[0])\n",
        "    return target"
      ],
      "execution_count": 0,
      "outputs": []
    },
    {
      "cell_type": "code",
      "metadata": {
        "id": "eu7SsPe79tG6",
        "colab_type": "code",
        "colab": {}
      },
      "source": [
        "def replace_slash(column):\n",
        "# Extract the first string in each row of column Indicators\n",
        "  prop_comb = []\n",
        "  for prows in column:\n",
        "    t3 = prows.replace(\"\\n\", \",\")\n",
        "    prop_comb.append(t3)\n",
        "  return prop_comb"
      ],
      "execution_count": 0,
      "outputs": []
    },
    {
      "cell_type": "code",
      "metadata": {
        "id": "QBEStT6LuQRE",
        "colab_type": "code",
        "colab": {}
      },
      "source": [
        "def preprocess_col_targets(column):\n",
        "    tgt = get_first_string(column)\n",
        "    replace_nan(tgt)\n",
        "    add_dot(tgt)\n",
        "    frame = pd.DataFrame(tgt)\n",
        "    return frame"
      ],
      "execution_count": 0,
      "outputs": []
    },
    {
      "cell_type": "code",
      "metadata": {
        "id": "Pzhyv0Hm2drV",
        "colab_type": "code",
        "colab": {}
      },
      "source": [
        "train.loc[:,'Targets'] =  preprocess_col_targets(train.iloc[:,0])"
      ],
      "execution_count": 0,
      "outputs": []
    },
    {
      "cell_type": "code",
      "metadata": {
        "id": "4LtOFg5l19H8",
        "colab_type": "code",
        "colab": {}
      },
      "source": [
        "def preprocess_col_indicators(indicators):\n",
        "  # Extract the first string in each row of column Indicators\n",
        "  comb_ind = get_first_string(indicators)\n",
        "    \n",
        "  #convert list to dataframe and Replace Indicators by the new Indicators\n",
        "  indicators = pd.DataFrame(comb_ind)\n",
        "\n",
        "  return indicators\n"
      ],
      "execution_count": 0,
      "outputs": []
    },
    {
      "cell_type": "code",
      "metadata": {
        "id": "W31HY7-J3cQS",
        "colab_type": "code",
        "colab": {}
      },
      "source": [
        "train.loc[:,'Indicators'] =  preprocess_col_indicators(train.iloc[:,1])"
      ],
      "execution_count": 0,
      "outputs": []
    },
    {
      "cell_type": "code",
      "metadata": {
        "id": "tptAQH6j3nlm",
        "colab_type": "code",
        "colab": {}
      },
      "source": [
        "def preprocess_col_prop_keywords(prop_keywds):\n",
        "  # Extract the first string in each row of column Indicators\n",
        "  prop_comb =replace_slash(prop_keywds)\n",
        "\n",
        "  #convert list to dataframe and Replace Indicators by the new Indicators\n",
        "  prop_keywds = pd.DataFrame(prop_comb)\n",
        "\n",
        "  return prop_keywds"
      ],
      "execution_count": 0,
      "outputs": []
    },
    {
      "cell_type": "code",
      "metadata": {
        "id": "2KPgNTat4NBr",
        "colab_type": "code",
        "colab": {}
      },
      "source": [
        "train.iloc[:,2] =  preprocess_col_prop_keywords(train.iloc[:,2])"
      ],
      "execution_count": 0,
      "outputs": []
    },
    {
      "cell_type": "code",
      "metadata": {
        "id": "cdAGEnF74Z2n",
        "colab_type": "code",
        "colab": {}
      },
      "source": [
        "train"
      ],
      "execution_count": 0,
      "outputs": []
    },
    {
      "cell_type": "code",
      "metadata": {
        "id": "_XyPR9sFG6cO",
        "colab_type": "code",
        "colab": {}
      },
      "source": [
        "i=1\n",
        "list_sheet_data = []\n",
        "for sheet in sdg_name:\n",
        "  sheet_data_ = pd.read_excel('keywords_file.xlsx',  sheet_name=sheet, skiprows=1, header=1)\n",
        "  sheet_data_.loc[:,'Targets'] =  preprocess_col_targets(sheet_data_.iloc[:,0])\n",
        "  sheet_data_.loc[:,'Indicators'] =  preprocess_col_indicators(sheet_data_.iloc[:,1])\n",
        "  sheet_data_.loc[:,'Proposed Keywords'] =  preprocess_col_prop_keywords(sheet_data_.iloc[:,2])\n",
        "  list_sheet_data.append(sheet_data_)\n",
        "  if(i==8): break\n",
        "  i=i+1\n",
        "list_sheet_data\n"
      ],
      "execution_count": 0,
      "outputs": []
    },
    {
      "cell_type": "code",
      "metadata": {
        "id": "ckFaqf44J1Gw",
        "colab_type": "code",
        "colab": {}
      },
      "source": [
        "appended_df = pd.concat(list_sheet_data)\n",
        "appended_df.to_excel(\"new_keywords_file.xlsx\", index=False)"
      ],
      "execution_count": 0,
      "outputs": []
    },
    {
      "cell_type": "code",
      "metadata": {
        "id": "E-pVDAhsG94I",
        "colab_type": "code",
        "colab": {}
      },
      "source": [
        "appended_df"
      ],
      "execution_count": 0,
      "outputs": []
    }
  ]
}