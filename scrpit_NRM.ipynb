{
  "nbformat": 4,
  "nbformat_minor": 0,
  "metadata": {
    "colab": {
      "name": "scrpit_NRM.ipynb",
      "provenance": [],
      "collapsed_sections": [],
      "include_colab_link": true
    },
    "kernelspec": {
      "name": "python3",
      "display_name": "Python 3"
    }
  },
  "cells": [
    {
      "cell_type": "markdown",
      "metadata": {
        "id": "view-in-github",
        "colab_type": "text"
      },
      "source": [
        "<a href=\"https://colab.research.google.com/github/AdamaTG/code_nrm/blob/komlan/scrpit_NRM.ipynb\" target=\"_parent\"><img src=\"https://colab.research.google.com/assets/colab-badge.svg\" alt=\"Open In Colab\"/></a>"
      ]
    },
    {
      "cell_type": "code",
      "metadata": {
        "id": "ILznbqG5Czc-",
        "colab_type": "code",
        "colab": {}
      },
      "source": [
        "target = []\n",
        "for l in train.iloc[:,0]:\n",
        "  ligne = str(l)\n",
        "  tab = list(ligne.split(\" \"))\n",
        "  target.append(tab[0])\n",
        "  "
      ],
      "execution_count": 0,
      "outputs": []
    },
    {
      "cell_type": "code",
      "metadata": {
        "id": "4MV2UBzCL4VF",
        "colab_type": "code",
        "colab": {}
      },
      "source": [
        "# Supression des \"nan\" et harmonisation de la notation 'e.g 1.1.'\n",
        "tgt = target;\n",
        "taille = range(0, len(tgt))\n",
        "for t in taille:\n",
        "  if tgt[t]==\"nan\":\n",
        "    tgt[t]=tgt[t-1]\n",
        "  stgt = list(tgt[t])\n",
        "  if stgt[-1]!=\".\":\n",
        "    tgt[t] = tgt[t]+\".\"\n",
        "\n"
      ],
      "execution_count": 0,
      "outputs": []
    },
    {
      "cell_type": "code",
      "metadata": {
        "id": "wRJKNcdvWrY1",
        "colab_type": "code",
        "colab": {}
      },
      "source": [
        "frame = pd.DataFrame(tgt)\n"
      ],
      "execution_count": 0,
      "outputs": []
    },
    {
      "cell_type": "code",
      "metadata": {
        "id": "UGSqhK5dXDNv",
        "colab_type": "code",
        "colab": {
          "base_uri": "https://localhost:8080/",
          "height": 402
        },
        "outputId": "0b2e1c7c-a260-4d37-a8c4-044d947101a7"
      },
      "source": [
        "train.loc[:,'Targets'] = frame\n",
        "train"
      ],
      "execution_count": 70,
      "outputs": [
        {
          "output_type": "execute_result",
          "data": {
            "text/html": [
              "<div>\n",
              "<style scoped>\n",
              "    .dataframe tbody tr th:only-of-type {\n",
              "        vertical-align: middle;\n",
              "    }\n",
              "\n",
              "    .dataframe tbody tr th {\n",
              "        vertical-align: top;\n",
              "    }\n",
              "\n",
              "    .dataframe thead th {\n",
              "        text-align: right;\n",
              "    }\n",
              "</style>\n",
              "<table border=\"1\" class=\"dataframe\">\n",
              "  <thead>\n",
              "    <tr style=\"text-align: right;\">\n",
              "      <th></th>\n",
              "      <th>Targets</th>\n",
              "      <th>Indicators</th>\n",
              "      <th>Proposed Keywords</th>\n",
              "    </tr>\n",
              "  </thead>\n",
              "  <tbody>\n",
              "    <tr>\n",
              "      <th>0</th>\n",
              "      <td>1.1.</td>\n",
              "      <td>1.1.1. Proportion of population below the inte...</td>\n",
              "      <td>Poverty\\nEmployment\\nMoney, Monetary means</td>\n",
              "    </tr>\n",
              "    <tr>\n",
              "      <th>1</th>\n",
              "      <td>1.2.</td>\n",
              "      <td>1.2.1. Proportion of population living below t...</td>\n",
              "      <td>Income\\nSalary\\nminimum wage\\ncash</td>\n",
              "    </tr>\n",
              "    <tr>\n",
              "      <th>2</th>\n",
              "      <td>1.2.</td>\n",
              "      <td>1.2.2. Proportion of men, women and children o...</td>\n",
              "      <td>impoverished women \\nimpoverished chilren\\nchi...</td>\n",
              "    </tr>\n",
              "    <tr>\n",
              "      <th>3</th>\n",
              "      <td>1.3.</td>\n",
              "      <td>1.3.1. Proportion of population covered by soc...</td>\n",
              "      <td>Social Protection Schemes\\nSocial Services\\nJo...</td>\n",
              "    </tr>\n",
              "    <tr>\n",
              "      <th>4</th>\n",
              "      <td>1.4.</td>\n",
              "      <td>1.4.1. Proportion of population living in hous...</td>\n",
              "      <td>Basic Services\\nLand ownership\\nHouse ownershi...</td>\n",
              "    </tr>\n",
              "    <tr>\n",
              "      <th>5</th>\n",
              "      <td>1.4.</td>\n",
              "      <td>1.4.2. Proportion of total adult population wi...</td>\n",
              "      <td>Land entitlement</td>\n",
              "    </tr>\n",
              "    <tr>\n",
              "      <th>6</th>\n",
              "      <td>1.5.</td>\n",
              "      <td>1.5.1. Number of deaths, missing persons and p...</td>\n",
              "      <td>climate-resilience\\nenvironmental shocks\\nclim...</td>\n",
              "    </tr>\n",
              "    <tr>\n",
              "      <th>7</th>\n",
              "      <td>1.5.</td>\n",
              "      <td>1.5.2. Direct disaster economic loss in relati...</td>\n",
              "      <td>economic loss\\nasset loss</td>\n",
              "    </tr>\n",
              "    <tr>\n",
              "      <th>8</th>\n",
              "      <td>1.5.</td>\n",
              "      <td>1.5.3. Number of countries with national and l...</td>\n",
              "      <td>disaster risk management</td>\n",
              "    </tr>\n",
              "    <tr>\n",
              "      <th>9</th>\n",
              "      <td>1.A.</td>\n",
              "      <td>1.A.1. Proportion of resources allocated by th...</td>\n",
              "      <td>government subsidies services such as:\\ngovern...</td>\n",
              "    </tr>\n",
              "    <tr>\n",
              "      <th>10</th>\n",
              "      <td>1.A.</td>\n",
              "      <td>1.A.2. Proportion of total government spending...</td>\n",
              "      <td>government funded programs\\ngovernment subsidi...</td>\n",
              "    </tr>\n",
              "    <tr>\n",
              "      <th>11</th>\n",
              "      <td>1.B.</td>\n",
              "      <td>1.B.1. Proportion of government recurrent and ...</td>\n",
              "      <td>pro-poor development strategies\\nGender sensit...</td>\n",
              "    </tr>\n",
              "  </tbody>\n",
              "</table>\n",
              "</div>"
            ],
            "text/plain": [
              "   Targets  ...                                  Proposed Keywords\n",
              "0     1.1.  ...         Poverty\\nEmployment\\nMoney, Monetary means\n",
              "1     1.2.  ...                 Income\\nSalary\\nminimum wage\\ncash\n",
              "2     1.2.  ...  impoverished women \\nimpoverished chilren\\nchi...\n",
              "3     1.3.  ...  Social Protection Schemes\\nSocial Services\\nJo...\n",
              "4     1.4.  ...  Basic Services\\nLand ownership\\nHouse ownershi...\n",
              "5     1.4.  ...                                   Land entitlement\n",
              "6     1.5.  ...  climate-resilience\\nenvironmental shocks\\nclim...\n",
              "7     1.5.  ...                          economic loss\\nasset loss\n",
              "8     1.5.  ...                           disaster risk management\n",
              "9     1.A.  ...  government subsidies services such as:\\ngovern...\n",
              "10    1.A.  ...  government funded programs\\ngovernment subsidi...\n",
              "11    1.B.  ...  pro-poor development strategies\\nGender sensit...\n",
              "\n",
              "[12 rows x 3 columns]"
            ]
          },
          "metadata": {
            "tags": []
          },
          "execution_count": 70
        }
      ]
    }
  ]
}