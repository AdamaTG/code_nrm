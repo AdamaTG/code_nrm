{
  "nbformat": 4,
  "nbformat_minor": 0,
  "metadata": {
    "colab": {
      "name": "scrpit_NRM.ipynb",
      "provenance": [],
      "collapsed_sections": [],
      "include_colab_link": true
    },
    "kernelspec": {
      "name": "python3",
      "display_name": "Python 3"
    }
  },
  "cells": [
    {
      "cell_type": "markdown",
      "metadata": {
        "id": "view-in-github",
        "colab_type": "text"
      },
      "source": [
        "<a href=\"https://colab.research.google.com/github/AdamaTG/code_nrm/blob/komlan/scrpit_NRM.ipynb\" target=\"_parent\"><img src=\"https://colab.research.google.com/assets/colab-badge.svg\" alt=\"Open In Colab\"/></a>"
      ]
    },
    {
      "cell_type": "code",
      "metadata": {
        "id": "F6Tr8ufuiTJK",
        "colab_type": "code",
        "colab": {}
      },
      "source": [
        "import pandas as pd\n",
        "import numpy as np\n",
        "import matplotlib.pyplot as plt\n",
        "import seaborn as sns\n",
        "from IPython.display import display\n",
        "from datetime import datetime\n",
        "import nltk\n",
        "from nltk.corpus import stopwords\n",
        "from nltk.stem import WordNetLemmatizer\n",
        "import re\n",
        "\n",
        "stemmer = WordNetLemmatizer()\n",
        "sns.set_style(\"whitegrid\")\n",
        "%matplotlib inline"
      ],
      "execution_count": 0,
      "outputs": []
    },
    {
      "cell_type": "code",
      "metadata": {
        "id": "e5Rvt4hcjDUF",
        "colab_type": "code",
        "colab": {}
      },
      "source": [
        "train = pd.read_excel('keywords_file.xlsx',  sheet_name='SDG 1', skiprows=1, header=1)  "
      ],
      "execution_count": 0,
      "outputs": []
    },
    {
      "cell_type": "code",
      "metadata": {
        "id": "p-4CsbCwxDZ8",
        "colab_type": "code",
        "outputId": "f5b42179-d22f-43dd-a5df-695b9cfaaf55",
        "colab": {
          "base_uri": "https://localhost:8080/",
          "height": 195
        }
      },
      "source": [
        "train.head()"
      ],
      "execution_count": 8,
      "outputs": [
        {
          "output_type": "execute_result",
          "data": {
            "text/html": [
              "<div>\n",
              "<style scoped>\n",
              "    .dataframe tbody tr th:only-of-type {\n",
              "        vertical-align: middle;\n",
              "    }\n",
              "\n",
              "    .dataframe tbody tr th {\n",
              "        vertical-align: top;\n",
              "    }\n",
              "\n",
              "    .dataframe thead th {\n",
              "        text-align: right;\n",
              "    }\n",
              "</style>\n",
              "<table border=\"1\" class=\"dataframe\">\n",
              "  <thead>\n",
              "    <tr style=\"text-align: right;\">\n",
              "      <th></th>\n",
              "      <th>Targets</th>\n",
              "      <th>Indicators</th>\n",
              "      <th>Proposed Keywords</th>\n",
              "    </tr>\n",
              "  </thead>\n",
              "  <tbody>\n",
              "    <tr>\n",
              "      <th>0</th>\n",
              "      <td>1.1. By 2030, eradicate extreme poverty for al...</td>\n",
              "      <td>1.1.1. Proportion of population below the inte...</td>\n",
              "      <td>Poverty\\nEmployment\\nMoney, Monetary means</td>\n",
              "    </tr>\n",
              "    <tr>\n",
              "      <th>1</th>\n",
              "      <td>1.2 . By 2030, reduce at least by half the pro...</td>\n",
              "      <td>1.2.1. Proportion of population living below t...</td>\n",
              "      <td>Income\\nSalary\\nminimum wage\\ncash</td>\n",
              "    </tr>\n",
              "    <tr>\n",
              "      <th>2</th>\n",
              "      <td>NaN</td>\n",
              "      <td>1.2.2. Proportion of men, women and children o...</td>\n",
              "      <td>impoverished women \\nimpoverished chilren\\nchi...</td>\n",
              "    </tr>\n",
              "    <tr>\n",
              "      <th>3</th>\n",
              "      <td>1.3. Implement nationally appropriate social p...</td>\n",
              "      <td>1.3.1. Proportion of population covered by soc...</td>\n",
              "      <td>Social Protection Schemes\\nSocial Services\\nJo...</td>\n",
              "    </tr>\n",
              "    <tr>\n",
              "      <th>4</th>\n",
              "      <td>1.4 . By 2030, ensure that all men and women, ...</td>\n",
              "      <td>1.4.1. Proportion of population living in hous...</td>\n",
              "      <td>Basic Services\\nLand ownership\\nHouse ownershi...</td>\n",
              "    </tr>\n",
              "  </tbody>\n",
              "</table>\n",
              "</div>"
            ],
            "text/plain": [
              "                                             Targets  ...                                  Proposed Keywords\n",
              "0  1.1. By 2030, eradicate extreme poverty for al...  ...         Poverty\\nEmployment\\nMoney, Monetary means\n",
              "1  1.2 . By 2030, reduce at least by half the pro...  ...                 Income\\nSalary\\nminimum wage\\ncash\n",
              "2                                                NaN  ...  impoverished women \\nimpoverished chilren\\nchi...\n",
              "3  1.3. Implement nationally appropriate social p...  ...  Social Protection Schemes\\nSocial Services\\nJo...\n",
              "4  1.4 . By 2030, ensure that all men and women, ...  ...  Basic Services\\nLand ownership\\nHouse ownershi...\n",
              "\n",
              "[5 rows x 3 columns]"
            ]
          },
          "metadata": {
            "tags": []
          },
          "execution_count": 8
        }
      ]
    },
    {
      "cell_type": "code",
      "metadata": {
        "id": "WI55d1VFq3hk",
        "colab_type": "code",
        "outputId": "003da91e-0cb5-4721-8518-79bd24afce38",
        "colab": {
          "base_uri": "https://localhost:8080/",
          "height": 195
        }
      },
      "source": [
        "train.tail()"
      ],
      "execution_count": 9,
      "outputs": [
        {
          "output_type": "execute_result",
          "data": {
            "text/html": [
              "<div>\n",
              "<style scoped>\n",
              "    .dataframe tbody tr th:only-of-type {\n",
              "        vertical-align: middle;\n",
              "    }\n",
              "\n",
              "    .dataframe tbody tr th {\n",
              "        vertical-align: top;\n",
              "    }\n",
              "\n",
              "    .dataframe thead th {\n",
              "        text-align: right;\n",
              "    }\n",
              "</style>\n",
              "<table border=\"1\" class=\"dataframe\">\n",
              "  <thead>\n",
              "    <tr style=\"text-align: right;\">\n",
              "      <th></th>\n",
              "      <th>Targets</th>\n",
              "      <th>Indicators</th>\n",
              "      <th>Proposed Keywords</th>\n",
              "    </tr>\n",
              "  </thead>\n",
              "  <tbody>\n",
              "    <tr>\n",
              "      <th>7</th>\n",
              "      <td>NaN</td>\n",
              "      <td>1.5.2. Direct disaster economic loss in relati...</td>\n",
              "      <td>economic loss\\nasset loss</td>\n",
              "    </tr>\n",
              "    <tr>\n",
              "      <th>8</th>\n",
              "      <td>NaN</td>\n",
              "      <td>1.5.3. Number of countries with national and l...</td>\n",
              "      <td>disaster risk management</td>\n",
              "    </tr>\n",
              "    <tr>\n",
              "      <th>9</th>\n",
              "      <td>1.A. Ensure significant mobilization of resour...</td>\n",
              "      <td>1.A.1. Proportion of resources allocated by th...</td>\n",
              "      <td>government subsidies services such as:\\ngovern...</td>\n",
              "    </tr>\n",
              "    <tr>\n",
              "      <th>10</th>\n",
              "      <td>NaN</td>\n",
              "      <td>1.A.2. Proportion of total government spending...</td>\n",
              "      <td>government funded programs\\ngovernment subsidi...</td>\n",
              "    </tr>\n",
              "    <tr>\n",
              "      <th>11</th>\n",
              "      <td>1.B. Create sound policy frameworks at the nat...</td>\n",
              "      <td>1.B.1. Proportion of government recurrent and ...</td>\n",
              "      <td>pro-poor development strategies\\nGender sensit...</td>\n",
              "    </tr>\n",
              "  </tbody>\n",
              "</table>\n",
              "</div>"
            ],
            "text/plain": [
              "                                              Targets  ...                                  Proposed Keywords\n",
              "7                                                 NaN  ...                          economic loss\\nasset loss\n",
              "8                                                 NaN  ...                           disaster risk management\n",
              "9   1.A. Ensure significant mobilization of resour...  ...  government subsidies services such as:\\ngovern...\n",
              "10                                                NaN  ...  government funded programs\\ngovernment subsidi...\n",
              "11  1.B. Create sound policy frameworks at the nat...  ...  pro-poor development strategies\\nGender sensit...\n",
              "\n",
              "[5 rows x 3 columns]"
            ]
          },
          "metadata": {
            "tags": []
          },
          "execution_count": 9
        }
      ]
    },
    {
      "cell_type": "code",
      "metadata": {
        "id": "CCy5CMH3E-xG",
        "colab_type": "code",
        "colab": {}
      },
      "source": [
        "Indicators = train.iloc[:,1]"
      ],
      "execution_count": 0,
      "outputs": []
    },
    {
      "cell_type": "code",
      "metadata": {
        "id": "zN8tShWqI3Oo",
        "colab_type": "code",
        "outputId": "b1102bb2-7c75-4ca7-f7c9-9f7eb4ef2035",
        "colab": {
          "base_uri": "https://localhost:8080/",
          "height": 218
        }
      },
      "source": [
        "# Extract the first string in each row of column Indicators\n",
        "comb = []\n",
        "for rows in Indicators:\n",
        "  text_tokens = rows.split(\" \")\n",
        "  rint = text_tokens[0]\n",
        "  comb.append(rint)\n",
        " \n",
        "comb"
      ],
      "execution_count": 11,
      "outputs": [
        {
          "output_type": "execute_result",
          "data": {
            "text/plain": [
              "['1.1.1.',\n",
              " '1.2.1.',\n",
              " '1.2.2.',\n",
              " '1.3.1.',\n",
              " '1.4.1.',\n",
              " '1.4.2.',\n",
              " '1.5.1.',\n",
              " '1.5.2.',\n",
              " '1.5.3.',\n",
              " '1.A.1.',\n",
              " '1.A.2.',\n",
              " '1.B.1.']"
            ]
          },
          "metadata": {
            "tags": []
          },
          "execution_count": 11
        }
      ]
    },
    {
      "cell_type": "code",
      "metadata": {
        "id": "oA_XcOvaMANM",
        "colab_type": "code",
        "outputId": "099bde54-8d8a-43da-b30a-2274ed6096e7",
        "colab": {
          "base_uri": "https://localhost:8080/",
          "height": 402
        }
      },
      "source": [
        "# convert list to dataframe\n",
        "new_ind = pd.DataFrame(comb)\n",
        "new_ind "
      ],
      "execution_count": 12,
      "outputs": [
        {
          "output_type": "execute_result",
          "data": {
            "text/html": [
              "<div>\n",
              "<style scoped>\n",
              "    .dataframe tbody tr th:only-of-type {\n",
              "        vertical-align: middle;\n",
              "    }\n",
              "\n",
              "    .dataframe tbody tr th {\n",
              "        vertical-align: top;\n",
              "    }\n",
              "\n",
              "    .dataframe thead th {\n",
              "        text-align: right;\n",
              "    }\n",
              "</style>\n",
              "<table border=\"1\" class=\"dataframe\">\n",
              "  <thead>\n",
              "    <tr style=\"text-align: right;\">\n",
              "      <th></th>\n",
              "      <th>0</th>\n",
              "    </tr>\n",
              "  </thead>\n",
              "  <tbody>\n",
              "    <tr>\n",
              "      <th>0</th>\n",
              "      <td>1.1.1.</td>\n",
              "    </tr>\n",
              "    <tr>\n",
              "      <th>1</th>\n",
              "      <td>1.2.1.</td>\n",
              "    </tr>\n",
              "    <tr>\n",
              "      <th>2</th>\n",
              "      <td>1.2.2.</td>\n",
              "    </tr>\n",
              "    <tr>\n",
              "      <th>3</th>\n",
              "      <td>1.3.1.</td>\n",
              "    </tr>\n",
              "    <tr>\n",
              "      <th>4</th>\n",
              "      <td>1.4.1.</td>\n",
              "    </tr>\n",
              "    <tr>\n",
              "      <th>5</th>\n",
              "      <td>1.4.2.</td>\n",
              "    </tr>\n",
              "    <tr>\n",
              "      <th>6</th>\n",
              "      <td>1.5.1.</td>\n",
              "    </tr>\n",
              "    <tr>\n",
              "      <th>7</th>\n",
              "      <td>1.5.2.</td>\n",
              "    </tr>\n",
              "    <tr>\n",
              "      <th>8</th>\n",
              "      <td>1.5.3.</td>\n",
              "    </tr>\n",
              "    <tr>\n",
              "      <th>9</th>\n",
              "      <td>1.A.1.</td>\n",
              "    </tr>\n",
              "    <tr>\n",
              "      <th>10</th>\n",
              "      <td>1.A.2.</td>\n",
              "    </tr>\n",
              "    <tr>\n",
              "      <th>11</th>\n",
              "      <td>1.B.1.</td>\n",
              "    </tr>\n",
              "  </tbody>\n",
              "</table>\n",
              "</div>"
            ],
            "text/plain": [
              "         0\n",
              "0   1.1.1.\n",
              "1   1.2.1.\n",
              "2   1.2.2.\n",
              "3   1.3.1.\n",
              "4   1.4.1.\n",
              "5   1.4.2.\n",
              "6   1.5.1.\n",
              "7   1.5.2.\n",
              "8   1.5.3.\n",
              "9   1.A.1.\n",
              "10  1.A.2.\n",
              "11  1.B.1."
            ]
          },
          "metadata": {
            "tags": []
          },
          "execution_count": 12
        }
      ]
    },
    {
      "cell_type": "code",
      "metadata": {
        "id": "DYxS-ARrMVj5",
        "colab_type": "code",
        "colab": {}
      },
      "source": [
        "train.loc[:,'Indicators'] = new_ind # Replace Indicators by the new Indicators"
      ],
      "execution_count": 0,
      "outputs": []
    },
    {
      "cell_type": "code",
      "metadata": {
        "id": "HdBNHeusMj7f",
        "colab_type": "code",
        "outputId": "8a84fd2d-2905-47a7-b22c-9d0b06fd0bd3",
        "colab": {
          "base_uri": "https://localhost:8080/",
          "height": 402
        }
      },
      "source": [
        "train"
      ],
      "execution_count": 14,
      "outputs": [
        {
          "output_type": "execute_result",
          "data": {
            "text/html": [
              "<div>\n",
              "<style scoped>\n",
              "    .dataframe tbody tr th:only-of-type {\n",
              "        vertical-align: middle;\n",
              "    }\n",
              "\n",
              "    .dataframe tbody tr th {\n",
              "        vertical-align: top;\n",
              "    }\n",
              "\n",
              "    .dataframe thead th {\n",
              "        text-align: right;\n",
              "    }\n",
              "</style>\n",
              "<table border=\"1\" class=\"dataframe\">\n",
              "  <thead>\n",
              "    <tr style=\"text-align: right;\">\n",
              "      <th></th>\n",
              "      <th>Targets</th>\n",
              "      <th>Indicators</th>\n",
              "      <th>Proposed Keywords</th>\n",
              "    </tr>\n",
              "  </thead>\n",
              "  <tbody>\n",
              "    <tr>\n",
              "      <th>0</th>\n",
              "      <td>1.1. By 2030, eradicate extreme poverty for al...</td>\n",
              "      <td>1.1.1.</td>\n",
              "      <td>Poverty\\nEmployment\\nMoney, Monetary means</td>\n",
              "    </tr>\n",
              "    <tr>\n",
              "      <th>1</th>\n",
              "      <td>1.2 . By 2030, reduce at least by half the pro...</td>\n",
              "      <td>1.2.1.</td>\n",
              "      <td>Income\\nSalary\\nminimum wage\\ncash</td>\n",
              "    </tr>\n",
              "    <tr>\n",
              "      <th>2</th>\n",
              "      <td>NaN</td>\n",
              "      <td>1.2.2.</td>\n",
              "      <td>impoverished women \\nimpoverished chilren\\nchi...</td>\n",
              "    </tr>\n",
              "    <tr>\n",
              "      <th>3</th>\n",
              "      <td>1.3. Implement nationally appropriate social p...</td>\n",
              "      <td>1.3.1.</td>\n",
              "      <td>Social Protection Schemes\\nSocial Services\\nJo...</td>\n",
              "    </tr>\n",
              "    <tr>\n",
              "      <th>4</th>\n",
              "      <td>1.4 . By 2030, ensure that all men and women, ...</td>\n",
              "      <td>1.4.1.</td>\n",
              "      <td>Basic Services\\nLand ownership\\nHouse ownershi...</td>\n",
              "    </tr>\n",
              "    <tr>\n",
              "      <th>5</th>\n",
              "      <td>NaN</td>\n",
              "      <td>1.4.2.</td>\n",
              "      <td>Land entitlement</td>\n",
              "    </tr>\n",
              "    <tr>\n",
              "      <th>6</th>\n",
              "      <td>1.5. By 2030, build the resilience of the poor...</td>\n",
              "      <td>1.5.1.</td>\n",
              "      <td>climate-resilience\\nenvironmental shocks\\nclim...</td>\n",
              "    </tr>\n",
              "    <tr>\n",
              "      <th>7</th>\n",
              "      <td>NaN</td>\n",
              "      <td>1.5.2.</td>\n",
              "      <td>economic loss\\nasset loss</td>\n",
              "    </tr>\n",
              "    <tr>\n",
              "      <th>8</th>\n",
              "      <td>NaN</td>\n",
              "      <td>1.5.3.</td>\n",
              "      <td>disaster risk management</td>\n",
              "    </tr>\n",
              "    <tr>\n",
              "      <th>9</th>\n",
              "      <td>1.A. Ensure significant mobilization of resour...</td>\n",
              "      <td>1.A.1.</td>\n",
              "      <td>government subsidies services such as:\\ngovern...</td>\n",
              "    </tr>\n",
              "    <tr>\n",
              "      <th>10</th>\n",
              "      <td>NaN</td>\n",
              "      <td>1.A.2.</td>\n",
              "      <td>government funded programs\\ngovernment subsidi...</td>\n",
              "    </tr>\n",
              "    <tr>\n",
              "      <th>11</th>\n",
              "      <td>1.B. Create sound policy frameworks at the nat...</td>\n",
              "      <td>1.B.1.</td>\n",
              "      <td>pro-poor development strategies\\nGender sensit...</td>\n",
              "    </tr>\n",
              "  </tbody>\n",
              "</table>\n",
              "</div>"
            ],
            "text/plain": [
              "                                              Targets  ...                                  Proposed Keywords\n",
              "0   1.1. By 2030, eradicate extreme poverty for al...  ...         Poverty\\nEmployment\\nMoney, Monetary means\n",
              "1   1.2 . By 2030, reduce at least by half the pro...  ...                 Income\\nSalary\\nminimum wage\\ncash\n",
              "2                                                 NaN  ...  impoverished women \\nimpoverished chilren\\nchi...\n",
              "3   1.3. Implement nationally appropriate social p...  ...  Social Protection Schemes\\nSocial Services\\nJo...\n",
              "4   1.4 . By 2030, ensure that all men and women, ...  ...  Basic Services\\nLand ownership\\nHouse ownershi...\n",
              "5                                                 NaN  ...                                   Land entitlement\n",
              "6   1.5. By 2030, build the resilience of the poor...  ...  climate-resilience\\nenvironmental shocks\\nclim...\n",
              "7                                                 NaN  ...                          economic loss\\nasset loss\n",
              "8                                                 NaN  ...                           disaster risk management\n",
              "9   1.A. Ensure significant mobilization of resour...  ...  government subsidies services such as:\\ngovern...\n",
              "10                                                NaN  ...  government funded programs\\ngovernment subsidi...\n",
              "11  1.B. Create sound policy frameworks at the nat...  ...  pro-poor development strategies\\nGender sensit...\n",
              "\n",
              "[12 rows x 3 columns]"
            ]
          },
          "metadata": {
            "tags": []
          },
          "execution_count": 14
        }
      ]
    },
    {
      "cell_type": "code",
      "metadata": {
        "id": "Aoh05S64kgdY",
        "colab_type": "code",
        "colab": {
          "base_uri": "https://localhost:8080/",
          "height": 218
        },
        "outputId": "b05d7fc9-fdee-48e8-effc-1082d5e3a706"
      },
      "source": [
        "target = []\n",
        "for l in train.iloc[:,0]:\n",
        "  ligne = str(l)\n",
        "  tab = list(ligne.split(\" \"))\n",
        "  target.append(tab[0])\n"
      ],
      "execution_count": 15,
      "outputs": [
        {
          "output_type": "execute_result",
          "data": {
            "text/plain": [
              "['1.1.',\n",
              " '1.2',\n",
              " 'nan',\n",
              " '1.3.',\n",
              " '1.4',\n",
              " 'nan',\n",
              " '1.5.',\n",
              " 'nan',\n",
              " 'nan',\n",
              " '1.A.',\n",
              " 'nan',\n",
              " '1.B.']"
            ]
          },
          "metadata": {
            "tags": []
          },
          "execution_count": 15
        }
      ]
    },
    {
      "cell_type": "code",
      "metadata": {
        "id": "qzE1oMElk7fg",
        "colab_type": "code",
        "colab": {}
      },
      "source": [
        "# Supression des \"nan\" et harmonisation de la notation 'e.g 1.1.'\n",
        "tgt = target;\n",
        "taille = range(0, len(tgt))\n",
        "for t in taille:\n",
        "  if tgt[t]==\"nan\":\n",
        "    tgt[t]=tgt[t-1]\n",
        "  stgt = list(tgt[t])\n",
        "  if stgt[-1]!=\".\":\n",
        "    tgt[t] = tgt[t]+\".\""
      ],
      "execution_count": 0,
      "outputs": []
    },
    {
      "cell_type": "code",
      "metadata": {
        "id": "wDRR2qVUk-YE",
        "colab_type": "code",
        "colab": {
          "base_uri": "https://localhost:8080/",
          "height": 402
        },
        "outputId": "86c20136-36e5-454d-a16f-72f804b5db6f"
      },
      "source": [
        "frame = pd.DataFrame(tgt)\n",
        "train.loc[:,'Targets'] = frame\n",
        "train"
      ],
      "execution_count": 17,
      "outputs": [
        {
          "output_type": "execute_result",
          "data": {
            "text/html": [
              "<div>\n",
              "<style scoped>\n",
              "    .dataframe tbody tr th:only-of-type {\n",
              "        vertical-align: middle;\n",
              "    }\n",
              "\n",
              "    .dataframe tbody tr th {\n",
              "        vertical-align: top;\n",
              "    }\n",
              "\n",
              "    .dataframe thead th {\n",
              "        text-align: right;\n",
              "    }\n",
              "</style>\n",
              "<table border=\"1\" class=\"dataframe\">\n",
              "  <thead>\n",
              "    <tr style=\"text-align: right;\">\n",
              "      <th></th>\n",
              "      <th>Targets</th>\n",
              "      <th>Indicators</th>\n",
              "      <th>Proposed Keywords</th>\n",
              "    </tr>\n",
              "  </thead>\n",
              "  <tbody>\n",
              "    <tr>\n",
              "      <th>0</th>\n",
              "      <td>1.1.</td>\n",
              "      <td>1.1.1.</td>\n",
              "      <td>Poverty\\nEmployment\\nMoney, Monetary means</td>\n",
              "    </tr>\n",
              "    <tr>\n",
              "      <th>1</th>\n",
              "      <td>1.2.</td>\n",
              "      <td>1.2.1.</td>\n",
              "      <td>Income\\nSalary\\nminimum wage\\ncash</td>\n",
              "    </tr>\n",
              "    <tr>\n",
              "      <th>2</th>\n",
              "      <td>1.2.</td>\n",
              "      <td>1.2.2.</td>\n",
              "      <td>impoverished women \\nimpoverished chilren\\nchi...</td>\n",
              "    </tr>\n",
              "    <tr>\n",
              "      <th>3</th>\n",
              "      <td>1.3.</td>\n",
              "      <td>1.3.1.</td>\n",
              "      <td>Social Protection Schemes\\nSocial Services\\nJo...</td>\n",
              "    </tr>\n",
              "    <tr>\n",
              "      <th>4</th>\n",
              "      <td>1.4.</td>\n",
              "      <td>1.4.1.</td>\n",
              "      <td>Basic Services\\nLand ownership\\nHouse ownershi...</td>\n",
              "    </tr>\n",
              "    <tr>\n",
              "      <th>5</th>\n",
              "      <td>1.4.</td>\n",
              "      <td>1.4.2.</td>\n",
              "      <td>Land entitlement</td>\n",
              "    </tr>\n",
              "    <tr>\n",
              "      <th>6</th>\n",
              "      <td>1.5.</td>\n",
              "      <td>1.5.1.</td>\n",
              "      <td>climate-resilience\\nenvironmental shocks\\nclim...</td>\n",
              "    </tr>\n",
              "    <tr>\n",
              "      <th>7</th>\n",
              "      <td>1.5.</td>\n",
              "      <td>1.5.2.</td>\n",
              "      <td>economic loss\\nasset loss</td>\n",
              "    </tr>\n",
              "    <tr>\n",
              "      <th>8</th>\n",
              "      <td>1.5.</td>\n",
              "      <td>1.5.3.</td>\n",
              "      <td>disaster risk management</td>\n",
              "    </tr>\n",
              "    <tr>\n",
              "      <th>9</th>\n",
              "      <td>1.A.</td>\n",
              "      <td>1.A.1.</td>\n",
              "      <td>government subsidies services such as:\\ngovern...</td>\n",
              "    </tr>\n",
              "    <tr>\n",
              "      <th>10</th>\n",
              "      <td>1.A.</td>\n",
              "      <td>1.A.2.</td>\n",
              "      <td>government funded programs\\ngovernment subsidi...</td>\n",
              "    </tr>\n",
              "    <tr>\n",
              "      <th>11</th>\n",
              "      <td>1.B.</td>\n",
              "      <td>1.B.1.</td>\n",
              "      <td>pro-poor development strategies\\nGender sensit...</td>\n",
              "    </tr>\n",
              "  </tbody>\n",
              "</table>\n",
              "</div>"
            ],
            "text/plain": [
              "   Targets Indicators                                  Proposed Keywords\n",
              "0     1.1.     1.1.1.         Poverty\\nEmployment\\nMoney, Monetary means\n",
              "1     1.2.     1.2.1.                 Income\\nSalary\\nminimum wage\\ncash\n",
              "2     1.2.     1.2.2.  impoverished women \\nimpoverished chilren\\nchi...\n",
              "3     1.3.     1.3.1.  Social Protection Schemes\\nSocial Services\\nJo...\n",
              "4     1.4.     1.4.1.  Basic Services\\nLand ownership\\nHouse ownershi...\n",
              "5     1.4.     1.4.2.                                   Land entitlement\n",
              "6     1.5.     1.5.1.  climate-resilience\\nenvironmental shocks\\nclim...\n",
              "7     1.5.     1.5.2.                          economic loss\\nasset loss\n",
              "8     1.5.     1.5.3.                           disaster risk management\n",
              "9     1.A.     1.A.1.  government subsidies services such as:\\ngovern...\n",
              "10    1.A.     1.A.2.  government funded programs\\ngovernment subsidi...\n",
              "11    1.B.     1.B.1.  pro-poor development strategies\\nGender sensit..."
            ]
          },
          "metadata": {
            "tags": []
          },
          "execution_count": 17
        }
      ]
    }
  ]
}