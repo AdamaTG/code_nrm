{
  "nbformat": 4,
  "nbformat_minor": 0,
  "metadata": {
    "colab": {
      "name": "scrpit_NRM.ipynb",
      "provenance": [],
      "collapsed_sections": [],
      "include_colab_link": true
    },
    "kernelspec": {
      "name": "python3",
      "display_name": "Python 3"
    }
  },
  "cells": [
    {
      "cell_type": "markdown",
      "metadata": {
        "id": "view-in-github",
        "colab_type": "text"
      },
      "source": [
        "<a href=\"https://colab.research.google.com/github/AdamaTG/code_nrm/blob/komlan/scrpit_NRM.ipynb\" target=\"_parent\"><img src=\"https://colab.research.google.com/assets/colab-badge.svg\" alt=\"Open In Colab\"/></a>"
      ]
    },
    {
      "cell_type": "code",
      "metadata": {
        "id": "F6Tr8ufuiTJK",
        "colab_type": "code",
        "colab": {}
      },
      "source": [
        "import pandas as pd\n",
        "import numpy as np\n",
        "import matplotlib.pyplot as plt\n",
        "import seaborn as sns\n",
        "from IPython.display import display\n",
        "from datetime import datetime\n",
        "import nltk\n",
        "from nltk.corpus import stopwords\n",
        "from nltk.stem import WordNetLemmatizer\n",
        "import re\n",
        "\n",
        "stemmer = WordNetLemmatizer()\n",
        "sns.set_style(\"whitegrid\")\n",
        "%matplotlib inline"
      ],
      "execution_count": 0,
      "outputs": []
    },
    {
      "cell_type": "code",
      "metadata": {
        "id": "e5Rvt4hcjDUF",
        "colab_type": "code",
        "colab": {}
      },
      "source": [
        "train = pd.read_excel('keywords_file.xlsx',  sheet_name='SDG 1', skiprows=1, header=1)  "
      ],
      "execution_count": 0,
      "outputs": []
    },
    {
      "cell_type": "code",
      "metadata": {
        "id": "ZpCJ4HRfyLMd",
        "colab_type": "code",
        "colab": {
          "base_uri": "https://localhost:8080/",
          "height": 195
        },
        "outputId": "7a7fc43f-a01e-4223-935d-149d4e2a3bfc"
      },
      "source": [
        "train.head()"
      ],
      "execution_count": 7,
      "outputs": [
        {
          "output_type": "execute_result",
          "data": {
            "text/html": [
              "<div>\n",
              "<style scoped>\n",
              "    .dataframe tbody tr th:only-of-type {\n",
              "        vertical-align: middle;\n",
              "    }\n",
              "\n",
              "    .dataframe tbody tr th {\n",
              "        vertical-align: top;\n",
              "    }\n",
              "\n",
              "    .dataframe thead th {\n",
              "        text-align: right;\n",
              "    }\n",
              "</style>\n",
              "<table border=\"1\" class=\"dataframe\">\n",
              "  <thead>\n",
              "    <tr style=\"text-align: right;\">\n",
              "      <th></th>\n",
              "      <th>Targets</th>\n",
              "      <th>Indicators</th>\n",
              "      <th>Proposed Keywords</th>\n",
              "    </tr>\n",
              "  </thead>\n",
              "  <tbody>\n",
              "    <tr>\n",
              "      <th>0</th>\n",
              "      <td>1.1. By 2030, eradicate extreme poverty for al...</td>\n",
              "      <td>1.1.1. Proportion of population below the inte...</td>\n",
              "      <td>Poverty\\nEmployment\\nMoney, Monetary means</td>\n",
              "    </tr>\n",
              "    <tr>\n",
              "      <th>1</th>\n",
              "      <td>1.2 . By 2030, reduce at least by half the pro...</td>\n",
              "      <td>1.2.1. Proportion of population living below t...</td>\n",
              "      <td>Income\\nSalary\\nminimum wage\\ncash</td>\n",
              "    </tr>\n",
              "    <tr>\n",
              "      <th>2</th>\n",
              "      <td>NaN</td>\n",
              "      <td>1.2.2. Proportion of men, women and children o...</td>\n",
              "      <td>impoverished women \\nimpoverished chilren\\nchi...</td>\n",
              "    </tr>\n",
              "    <tr>\n",
              "      <th>3</th>\n",
              "      <td>1.3. Implement nationally appropriate social p...</td>\n",
              "      <td>1.3.1. Proportion of population covered by soc...</td>\n",
              "      <td>Social Protection Schemes\\nSocial Services\\nJo...</td>\n",
              "    </tr>\n",
              "    <tr>\n",
              "      <th>4</th>\n",
              "      <td>1.4 . By 2030, ensure that all men and women, ...</td>\n",
              "      <td>1.4.1. Proportion of population living in hous...</td>\n",
              "      <td>Basic Services\\nLand ownership\\nHouse ownershi...</td>\n",
              "    </tr>\n",
              "  </tbody>\n",
              "</table>\n",
              "</div>"
            ],
            "text/plain": [
              "                                             Targets  ...                                  Proposed Keywords\n",
              "0  1.1. By 2030, eradicate extreme poverty for al...  ...         Poverty\\nEmployment\\nMoney, Monetary means\n",
              "1  1.2 . By 2030, reduce at least by half the pro...  ...                 Income\\nSalary\\nminimum wage\\ncash\n",
              "2                                                NaN  ...  impoverished women \\nimpoverished chilren\\nchi...\n",
              "3  1.3. Implement nationally appropriate social p...  ...  Social Protection Schemes\\nSocial Services\\nJo...\n",
              "4  1.4 . By 2030, ensure that all men and women, ...  ...  Basic Services\\nLand ownership\\nHouse ownershi...\n",
              "\n",
              "[5 rows x 3 columns]"
            ]
          },
          "metadata": {
            "tags": []
          },
          "execution_count": 7
        }
      ]
    },
    {
      "cell_type": "code",
      "metadata": {
        "id": "zhYi3VVwybJY",
        "colab_type": "code",
        "colab": {
          "base_uri": "https://localhost:8080/",
          "height": 195
        },
        "outputId": "98dd98e0-1872-48b7-9829-597ea69f817d"
      },
      "source": [
        "train.tail()"
      ],
      "execution_count": 8,
      "outputs": [
        {
          "output_type": "execute_result",
          "data": {
            "text/html": [
              "<div>\n",
              "<style scoped>\n",
              "    .dataframe tbody tr th:only-of-type {\n",
              "        vertical-align: middle;\n",
              "    }\n",
              "\n",
              "    .dataframe tbody tr th {\n",
              "        vertical-align: top;\n",
              "    }\n",
              "\n",
              "    .dataframe thead th {\n",
              "        text-align: right;\n",
              "    }\n",
              "</style>\n",
              "<table border=\"1\" class=\"dataframe\">\n",
              "  <thead>\n",
              "    <tr style=\"text-align: right;\">\n",
              "      <th></th>\n",
              "      <th>Targets</th>\n",
              "      <th>Indicators</th>\n",
              "      <th>Proposed Keywords</th>\n",
              "    </tr>\n",
              "  </thead>\n",
              "  <tbody>\n",
              "    <tr>\n",
              "      <th>7</th>\n",
              "      <td>NaN</td>\n",
              "      <td>1.5.2. Direct disaster economic loss in relati...</td>\n",
              "      <td>economic loss\\nasset loss</td>\n",
              "    </tr>\n",
              "    <tr>\n",
              "      <th>8</th>\n",
              "      <td>NaN</td>\n",
              "      <td>1.5.3. Number of countries with national and l...</td>\n",
              "      <td>disaster risk management</td>\n",
              "    </tr>\n",
              "    <tr>\n",
              "      <th>9</th>\n",
              "      <td>1.A. Ensure significant mobilization of resour...</td>\n",
              "      <td>1.A.1. Proportion of resources allocated by th...</td>\n",
              "      <td>government subsidies services such as:\\ngovern...</td>\n",
              "    </tr>\n",
              "    <tr>\n",
              "      <th>10</th>\n",
              "      <td>NaN</td>\n",
              "      <td>1.A.2. Proportion of total government spending...</td>\n",
              "      <td>government funded programs\\ngovernment subsidi...</td>\n",
              "    </tr>\n",
              "    <tr>\n",
              "      <th>11</th>\n",
              "      <td>1.B. Create sound policy frameworks at the nat...</td>\n",
              "      <td>1.B.1. Proportion of government recurrent and ...</td>\n",
              "      <td>pro-poor development strategies\\nGender sensit...</td>\n",
              "    </tr>\n",
              "  </tbody>\n",
              "</table>\n",
              "</div>"
            ],
            "text/plain": [
              "                                              Targets  ...                                  Proposed Keywords\n",
              "7                                                 NaN  ...                          economic loss\\nasset loss\n",
              "8                                                 NaN  ...                           disaster risk management\n",
              "9   1.A. Ensure significant mobilization of resour...  ...  government subsidies services such as:\\ngovern...\n",
              "10                                                NaN  ...  government funded programs\\ngovernment subsidi...\n",
              "11  1.B. Create sound policy frameworks at the nat...  ...  pro-poor development strategies\\nGender sensit...\n",
              "\n",
              "[5 rows x 3 columns]"
            ]
          },
          "metadata": {
            "tags": []
          },
          "execution_count": 8
        }
      ]
    },
    {
      "cell_type": "code",
      "metadata": {
        "id": "-duOibqayhQH",
        "colab_type": "code",
        "colab": {
          "base_uri": "https://localhost:8080/",
          "height": 269
        },
        "outputId": "2ea5b09e-2d7e-491b-baf7-d9c04dbca708"
      },
      "source": [
        "print(train)"
      ],
      "execution_count": 9,
      "outputs": [
        {
          "output_type": "stream",
          "text": [
            "                                              Targets  ...                                  Proposed Keywords\n",
            "0   1.1. By 2030, eradicate extreme poverty for al...  ...         Poverty\\nEmployment\\nMoney, Monetary means\n",
            "1   1.2 . By 2030, reduce at least by half the pro...  ...                 Income\\nSalary\\nminimum wage\\ncash\n",
            "2                                                 NaN  ...  impoverished women \\nimpoverished chilren\\nchi...\n",
            "3   1.3. Implement nationally appropriate social p...  ...  Social Protection Schemes\\nSocial Services\\nJo...\n",
            "4   1.4 . By 2030, ensure that all men and women, ...  ...  Basic Services\\nLand ownership\\nHouse ownershi...\n",
            "5                                                 NaN  ...                                   Land entitlement\n",
            "6   1.5. By 2030, build the resilience of the poor...  ...  climate-resilience\\nenvironmental shocks\\nclim...\n",
            "7                                                 NaN  ...                          economic loss\\nasset loss\n",
            "8                                                 NaN  ...                           disaster risk management\n",
            "9   1.A. Ensure significant mobilization of resour...  ...  government subsidies services such as:\\ngovern...\n",
            "10                                                NaN  ...  government funded programs\\ngovernment subsidi...\n",
            "11  1.B. Create sound policy frameworks at the nat...  ...  pro-poor development strategies\\nGender sensit...\n",
            "\n",
            "[12 rows x 3 columns]\n"
          ],
          "name": "stdout"
        }
      ]
    }
  ]
}