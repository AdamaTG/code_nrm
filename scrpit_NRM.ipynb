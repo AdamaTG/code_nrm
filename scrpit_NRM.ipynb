{
  "nbformat": 4,
  "nbformat_minor": 0,
  "metadata": {
    "colab": {
      "name": "scrpit_NRM.ipynb",
      "provenance": [],
      "collapsed_sections": [],
      "include_colab_link": true
    },
    "kernelspec": {
      "name": "python3",
      "display_name": "Python 3"
    }
  },
  "cells": [
    {
      "cell_type": "markdown",
      "metadata": {
        "id": "view-in-github",
        "colab_type": "text"
      },
      "source": [
        "<a href=\"https://colab.research.google.com/github/AdamaTG/code_nrm/blob/adama/scrpit_NRM.ipynb\" target=\"_parent\"><img src=\"https://colab.research.google.com/assets/colab-badge.svg\" alt=\"Open In Colab\"/></a>"
      ]
    },
    {
      "cell_type": "code",
      "metadata": {
        "id": "F6Tr8ufuiTJK",
        "colab_type": "code",
        "colab": {}
      },
      "source": [
        "import pandas as pd\n",
        "import numpy as np\n",
        "import matplotlib.pyplot as plt\n",
        "import seaborn as sns\n",
        "from IPython.display import display\n",
        "from datetime import datetime\n",
        "import nltk\n",
        "from nltk.corpus import stopwords\n",
        "from nltk.stem import WordNetLemmatizer\n",
        "import re\n",
        "\n",
        "stemmer = WordNetLemmatizer()\n",
        "sns.set_style(\"whitegrid\")\n",
        "%matplotlib inline"
      ],
      "execution_count": 0,
      "outputs": []
    },
    {
      "cell_type": "code",
      "metadata": {
        "id": "e5Rvt4hcjDUF",
        "colab_type": "code",
        "colab": {}
      },
      "source": [
        "train = pd.read_excel('keywords_file.xlsx',  sheet_name='SDG 1', skiprows=1, header=1)  "
      ],
      "execution_count": 0,
      "outputs": []
    },
    {
      "cell_type": "code",
      "metadata": {
        "id": "p-4CsbCwxDZ8",
        "colab_type": "code",
        "outputId": "97941386-cd09-4655-d636-c892028e539b",
        "colab": {
          "base_uri": "https://localhost:8080/",
          "height": 204
        }
      },
      "source": [
        "train.head()"
      ],
      "execution_count": 214,
      "outputs": [
        {
          "output_type": "execute_result",
          "data": {
            "text/html": [
              "<div>\n",
              "<style scoped>\n",
              "    .dataframe tbody tr th:only-of-type {\n",
              "        vertical-align: middle;\n",
              "    }\n",
              "\n",
              "    .dataframe tbody tr th {\n",
              "        vertical-align: top;\n",
              "    }\n",
              "\n",
              "    .dataframe thead th {\n",
              "        text-align: right;\n",
              "    }\n",
              "</style>\n",
              "<table border=\"1\" class=\"dataframe\">\n",
              "  <thead>\n",
              "    <tr style=\"text-align: right;\">\n",
              "      <th></th>\n",
              "      <th>Targets</th>\n",
              "      <th>Indicators</th>\n",
              "      <th>Proposed Keywords</th>\n",
              "    </tr>\n",
              "  </thead>\n",
              "  <tbody>\n",
              "    <tr>\n",
              "      <th>0</th>\n",
              "      <td>1.1. By 2030, eradicate extreme poverty for al...</td>\n",
              "      <td>1.1.1. Proportion of population below the inte...</td>\n",
              "      <td>Poverty\\nEmployment\\nMoney, Monetary means</td>\n",
              "    </tr>\n",
              "    <tr>\n",
              "      <th>1</th>\n",
              "      <td>1.2 . By 2030, reduce at least by half the pro...</td>\n",
              "      <td>1.2.1. Proportion of population living below t...</td>\n",
              "      <td>Income\\nSalary\\nminimum wage\\ncash</td>\n",
              "    </tr>\n",
              "    <tr>\n",
              "      <th>2</th>\n",
              "      <td>NaN</td>\n",
              "      <td>1.2.2. Proportion of men, women and children o...</td>\n",
              "      <td>impoverished women \\nimpoverished chilren\\nchi...</td>\n",
              "    </tr>\n",
              "    <tr>\n",
              "      <th>3</th>\n",
              "      <td>1.3. Implement nationally appropriate social p...</td>\n",
              "      <td>1.3.1. Proportion of population covered by soc...</td>\n",
              "      <td>Social Protection Schemes\\nSocial Services\\nJo...</td>\n",
              "    </tr>\n",
              "    <tr>\n",
              "      <th>4</th>\n",
              "      <td>1.4 . By 2030, ensure that all men and women, ...</td>\n",
              "      <td>1.4.1. Proportion of population living in hous...</td>\n",
              "      <td>Basic Services\\nLand ownership\\nHouse ownershi...</td>\n",
              "    </tr>\n",
              "  </tbody>\n",
              "</table>\n",
              "</div>"
            ],
            "text/plain": [
              "                                             Targets  ...                                  Proposed Keywords\n",
              "0  1.1. By 2030, eradicate extreme poverty for al...  ...         Poverty\\nEmployment\\nMoney, Monetary means\n",
              "1  1.2 . By 2030, reduce at least by half the pro...  ...                 Income\\nSalary\\nminimum wage\\ncash\n",
              "2                                                NaN  ...  impoverished women \\nimpoverished chilren\\nchi...\n",
              "3  1.3. Implement nationally appropriate social p...  ...  Social Protection Schemes\\nSocial Services\\nJo...\n",
              "4  1.4 . By 2030, ensure that all men and women, ...  ...  Basic Services\\nLand ownership\\nHouse ownershi...\n",
              "\n",
              "[5 rows x 3 columns]"
            ]
          },
          "metadata": {
            "tags": []
          },
          "execution_count": 214
        }
      ]
    },
    {
      "cell_type": "code",
      "metadata": {
        "id": "WI55d1VFq3hk",
        "colab_type": "code",
        "colab": {}
      },
      "source": [
        "#train.tail()"
      ],
      "execution_count": 0,
      "outputs": []
    },
    {
      "cell_type": "code",
      "metadata": {
        "id": "QBEStT6LuQRE",
        "colab_type": "code",
        "colab": {}
      },
      "source": [
        "def preprocess_col_targets(column):\n",
        "    target = []\n",
        "    for l in column:\n",
        "        ligne = str(l)\n",
        "        tab = ligne.split(\" \")\n",
        "        target.append(tab[0])\n",
        "        \n",
        "    tgt = target;\n",
        "    taille = range(0, len(tgt))\n",
        "    for t in taille:\n",
        "      if tgt[t]==\"nan\":\n",
        "        tgt[t]=tgt[t-1]\n",
        "      stgt = list(tgt[t])\n",
        "      if stgt[-1]!=\".\":\n",
        "        tgt[t] = tgt[t]+\".\"\n",
        "    frame = pd.DataFrame(tgt)\n",
        "\n",
        "    return frame;\n"
      ],
      "execution_count": 0,
      "outputs": []
    },
    {
      "cell_type": "code",
      "metadata": {
        "id": "RiymQOBT1MmL",
        "colab_type": "code",
        "colab": {}
      },
      "source": [
        "train.loc[:,'Targets'] =  preprocess_col_targets(train.iloc[:,0])"
      ],
      "execution_count": 0,
      "outputs": []
    },
    {
      "cell_type": "code",
      "metadata": {
        "id": "4LtOFg5l19H8",
        "colab_type": "code",
        "colab": {}
      },
      "source": [
        "def preprocess_col_indicators(indicators):\n",
        "  # Extract the first string in each row of column Indicators\n",
        "  comb_ind = []\n",
        "  for rows in indicators:\n",
        "    rows_split = rows.split(\" \")\n",
        "    comb_ind.append(rows_split[0])\n",
        "    \n",
        "  #convert list to dataframe and Replace Indicators by the new Indicators\n",
        "  indicators = pd.DataFrame(comb_ind)\n",
        "\n",
        "  return indicators\n"
      ],
      "execution_count": 0,
      "outputs": []
    },
    {
      "cell_type": "code",
      "metadata": {
        "id": "W31HY7-J3cQS",
        "colab_type": "code",
        "colab": {}
      },
      "source": [
        "train.loc[:,'Indicators'] =  preprocess_col_indicators(train.iloc[:,1])"
      ],
      "execution_count": 0,
      "outputs": []
    },
    {
      "cell_type": "code",
      "metadata": {
        "id": "tptAQH6j3nlm",
        "colab_type": "code",
        "colab": {}
      },
      "source": [
        "def preprocess_col_prop_keywords(prop_keywds):\n",
        "  # Extract the first string in each row of column Indicators\n",
        "  prop_comb = []\n",
        "  for prows in prop_keywds:\n",
        "    t3 = prows.replace(\"\\n\", \",\")\n",
        "    prop_comb.append(t3)\n",
        "    \n",
        "  #convert list to dataframe and Replace Indicators by the new Indicators\n",
        "  prop_keywds = pd.DataFrame(prop_comb)\n",
        "\n",
        "  return prop_comb"
      ],
      "execution_count": 0,
      "outputs": []
    },
    {
      "cell_type": "code",
      "metadata": {
        "id": "2KPgNTat4NBr",
        "colab_type": "code",
        "colab": {}
      },
      "source": [
        "train.iloc[:,2] =  preprocess_col_prop_keywords(train.iloc[:,2])"
      ],
      "execution_count": 0,
      "outputs": []
    },
    {
      "cell_type": "code",
      "metadata": {
        "id": "cdAGEnF74Z2n",
        "colab_type": "code",
        "colab": {
          "base_uri": "https://localhost:8080/",
          "height": 421
        },
        "outputId": "e0a38549-0371-4acd-88df-09cd587d6331"
      },
      "source": [
        "train"
      ],
      "execution_count": 222,
      "outputs": [
        {
          "output_type": "execute_result",
          "data": {
            "text/html": [
              "<div>\n",
              "<style scoped>\n",
              "    .dataframe tbody tr th:only-of-type {\n",
              "        vertical-align: middle;\n",
              "    }\n",
              "\n",
              "    .dataframe tbody tr th {\n",
              "        vertical-align: top;\n",
              "    }\n",
              "\n",
              "    .dataframe thead th {\n",
              "        text-align: right;\n",
              "    }\n",
              "</style>\n",
              "<table border=\"1\" class=\"dataframe\">\n",
              "  <thead>\n",
              "    <tr style=\"text-align: right;\">\n",
              "      <th></th>\n",
              "      <th>Targets</th>\n",
              "      <th>Indicators</th>\n",
              "      <th>Proposed Keywords</th>\n",
              "    </tr>\n",
              "  </thead>\n",
              "  <tbody>\n",
              "    <tr>\n",
              "      <th>0</th>\n",
              "      <td>1.1.</td>\n",
              "      <td>1.1.1.</td>\n",
              "      <td>Poverty,Employment,Money, Monetary means</td>\n",
              "    </tr>\n",
              "    <tr>\n",
              "      <th>1</th>\n",
              "      <td>1.2.</td>\n",
              "      <td>1.2.1.</td>\n",
              "      <td>Income,Salary,minimum wage,cash</td>\n",
              "    </tr>\n",
              "    <tr>\n",
              "      <th>2</th>\n",
              "      <td>1.2.</td>\n",
              "      <td>1.2.2.</td>\n",
              "      <td>impoverished women ,impoverished chilren,child...</td>\n",
              "    </tr>\n",
              "    <tr>\n",
              "      <th>3</th>\n",
              "      <td>1.3.</td>\n",
              "      <td>1.3.1.</td>\n",
              "      <td>Social Protection Schemes,Social Services,Jobs...</td>\n",
              "    </tr>\n",
              "    <tr>\n",
              "      <th>4</th>\n",
              "      <td>1.4.</td>\n",
              "      <td>1.4.1.</td>\n",
              "      <td>Basic Services,Land ownership,House ownership,...</td>\n",
              "    </tr>\n",
              "    <tr>\n",
              "      <th>5</th>\n",
              "      <td>1.4.</td>\n",
              "      <td>1.4.2.</td>\n",
              "      <td>Land entitlement</td>\n",
              "    </tr>\n",
              "    <tr>\n",
              "      <th>6</th>\n",
              "      <td>1.5.</td>\n",
              "      <td>1.5.1.</td>\n",
              "      <td>climate-resilience,environmental shocks,climat...</td>\n",
              "    </tr>\n",
              "    <tr>\n",
              "      <th>7</th>\n",
              "      <td>1.5.</td>\n",
              "      <td>1.5.2.</td>\n",
              "      <td>economic loss,asset loss</td>\n",
              "    </tr>\n",
              "    <tr>\n",
              "      <th>8</th>\n",
              "      <td>1.5.</td>\n",
              "      <td>1.5.3.</td>\n",
              "      <td>disaster risk management</td>\n",
              "    </tr>\n",
              "    <tr>\n",
              "      <th>9</th>\n",
              "      <td>1.A.</td>\n",
              "      <td>1.A.1.</td>\n",
              "      <td>government subsidies services such as:,governm...</td>\n",
              "    </tr>\n",
              "    <tr>\n",
              "      <th>10</th>\n",
              "      <td>1.A.</td>\n",
              "      <td>1.A.2.</td>\n",
              "      <td>government funded programs,government subsidie...</td>\n",
              "    </tr>\n",
              "    <tr>\n",
              "      <th>11</th>\n",
              "      <td>1.B.</td>\n",
              "      <td>1.B.1.</td>\n",
              "      <td>pro-poor development strategies,Gender sensiti...</td>\n",
              "    </tr>\n",
              "  </tbody>\n",
              "</table>\n",
              "</div>"
            ],
            "text/plain": [
              "   Targets Indicators                                  Proposed Keywords\n",
              "0     1.1.     1.1.1.           Poverty,Employment,Money, Monetary means\n",
              "1     1.2.     1.2.1.                    Income,Salary,minimum wage,cash\n",
              "2     1.2.     1.2.2.  impoverished women ,impoverished chilren,child...\n",
              "3     1.3.     1.3.1.  Social Protection Schemes,Social Services,Jobs...\n",
              "4     1.4.     1.4.1.  Basic Services,Land ownership,House ownership,...\n",
              "5     1.4.     1.4.2.                                   Land entitlement\n",
              "6     1.5.     1.5.1.  climate-resilience,environmental shocks,climat...\n",
              "7     1.5.     1.5.2.                           economic loss,asset loss\n",
              "8     1.5.     1.5.3.                           disaster risk management\n",
              "9     1.A.     1.A.1.  government subsidies services such as:,governm...\n",
              "10    1.A.     1.A.2.  government funded programs,government subsidie...\n",
              "11    1.B.     1.B.1.  pro-poor development strategies,Gender sensiti..."
            ]
          },
          "metadata": {
            "tags": []
          },
          "execution_count": 222
        }
      ]
    }
  ]
}