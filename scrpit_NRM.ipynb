{
  "nbformat": 4,
  "nbformat_minor": 0,
  "metadata": {
    "colab": {
      "name": "scrpit_NRM.ipynb",
      "provenance": [],
      "collapsed_sections": [],
      "include_colab_link": true
    },
    "kernelspec": {
      "name": "python3",
      "display_name": "Python 3"
    }
  },
  "cells": [
    {
      "cell_type": "markdown",
      "metadata": {
        "id": "view-in-github",
        "colab_type": "text"
      },
      "source": [
        "<a href=\"https://colab.research.google.com/github/AdamaTG/code_nrm/blob/adama/scrpit_NRM.ipynb\" target=\"_parent\"><img src=\"https://colab.research.google.com/assets/colab-badge.svg\" alt=\"Open In Colab\"/></a>"
      ]
    },
    {
      "cell_type": "code",
      "metadata": {
        "id": "F6Tr8ufuiTJK",
        "colab_type": "code",
        "colab": {}
      },
      "source": [
        "import pandas as pd\n",
        "import numpy as np\n",
        "import matplotlib.pyplot as plt\n",
        "import seaborn as sns\n",
        "from IPython.display import display\n",
        "from datetime import datetime\n",
        "import nltk\n",
        "from nltk.corpus import stopwords\n",
        "from nltk.stem import WordNetLemmatizer\n",
        "import re\n",
        "\n",
        "stemmer = WordNetLemmatizer()\n",
        "sns.set_style(\"whitegrid\")\n",
        "%matplotlib inline"
      ],
      "execution_count": 0,
      "outputs": []
    },
    {
      "cell_type": "code",
      "metadata": {
        "id": "e5Rvt4hcjDUF",
        "colab_type": "code",
        "colab": {}
      },
      "source": [
        "train = pd.read_excel('keywords_file.xlsx',  sheet_name='SDG 1', skiprows=1, header=1)  "
      ],
      "execution_count": 0,
      "outputs": []
    },
    {
      "cell_type": "code",
      "metadata": {
        "id": "WI55d1VFq3hk",
        "colab_type": "code",
        "outputId": "99e82501-8f00-42fc-8bc2-cca4eaaa1ac5",
        "colab": {
          "base_uri": "https://localhost:8080/",
          "height": 195
        }
      },
      "source": [
        "train.tail()"
      ],
      "execution_count": 0,
      "outputs": [
        {
          "output_type": "execute_result",
          "data": {
            "text/html": [
              "<div>\n",
              "<style scoped>\n",
              "    .dataframe tbody tr th:only-of-type {\n",
              "        vertical-align: middle;\n",
              "    }\n",
              "\n",
              "    .dataframe tbody tr th {\n",
              "        vertical-align: top;\n",
              "    }\n",
              "\n",
              "    .dataframe thead th {\n",
              "        text-align: right;\n",
              "    }\n",
              "</style>\n",
              "<table border=\"1\" class=\"dataframe\">\n",
              "  <thead>\n",
              "    <tr style=\"text-align: right;\">\n",
              "      <th></th>\n",
              "      <th>Targets</th>\n",
              "      <th>Indicators</th>\n",
              "      <th>Proposed Keywords</th>\n",
              "    </tr>\n",
              "  </thead>\n",
              "  <tbody>\n",
              "    <tr>\n",
              "      <th>7</th>\n",
              "      <td>NaN</td>\n",
              "      <td>1.5.2. Direct disaster economic loss in relati...</td>\n",
              "      <td>economic loss\\nasset loss</td>\n",
              "    </tr>\n",
              "    <tr>\n",
              "      <th>8</th>\n",
              "      <td>NaN</td>\n",
              "      <td>1.5.3. Number of countries with national and l...</td>\n",
              "      <td>disaster risk management</td>\n",
              "    </tr>\n",
              "    <tr>\n",
              "      <th>9</th>\n",
              "      <td>1.A. Ensure significant mobilization of resour...</td>\n",
              "      <td>1.A.1. Proportion of resources allocated by th...</td>\n",
              "      <td>government subsidies services such as:\\ngovern...</td>\n",
              "    </tr>\n",
              "    <tr>\n",
              "      <th>10</th>\n",
              "      <td>NaN</td>\n",
              "      <td>1.A.2. Proportion of total government spending...</td>\n",
              "      <td>government funded programs\\ngovernment subsidi...</td>\n",
              "    </tr>\n",
              "    <tr>\n",
              "      <th>11</th>\n",
              "      <td>1.B. Create sound policy frameworks at the nat...</td>\n",
              "      <td>1.B.1. Proportion of government recurrent and ...</td>\n",
              "      <td>pro-poor development strategies\\nGender sensit...</td>\n",
              "    </tr>\n",
              "  </tbody>\n",
              "</table>\n",
              "</div>"
            ],
            "text/plain": [
              "                                              Targets  ...                                  Proposed Keywords\n",
              "7                                                 NaN  ...                          economic loss\\nasset loss\n",
              "8                                                 NaN  ...                           disaster risk management\n",
              "9   1.A. Ensure significant mobilization of resour...  ...  government subsidies services such as:\\ngovern...\n",
              "10                                                NaN  ...  government funded programs\\ngovernment subsidi...\n",
              "11  1.B. Create sound policy frameworks at the nat...  ...  pro-poor development strategies\\nGender sensit...\n",
              "\n",
              "[5 rows x 3 columns]"
            ]
          },
          "metadata": {
            "tags": []
          },
          "execution_count": 5
        }
      ]
    }
  ]
}